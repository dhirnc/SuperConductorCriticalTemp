{
 "cells": [
  {
   "cell_type": "markdown",
   "metadata": {},
   "source": [
    "# Predicting the Critical Temperature of a Superconductor\n",
    "\n",
    "Programming Language: R 3.5.1 in Jupyter Notebook\n",
    "\n",
    "R Libraries used:\n",
    "- dplyr\n",
    "- reshape2\n",
    "- ggplot2\n",
    "- GGally\n",
    "- grid\n",
    "- gridExtra\n",
    "- scales\n",
    "- car\n",
    "- glmnet\n",
    "- praznik\n",
    "- xgboost"
   ]
  },
  {
   "cell_type": "markdown",
   "metadata": {},
   "source": [
    "## Table of Contents\n",
    "\n",
    "* [Introduction](#sec_1)\n",
    "* [Data Exploration](#sec_2)\n",
    "* [Model Development](#sec_3)\n",
    "* [Model Comparison](#sec_4)\n",
    "* [Variable Identification and Explanation](#sec_5)\n",
    "* [Conclusion](#sec_6)\n",
    "* [References](#sec_7)"
   ]
  },
  {
   "cell_type": "markdown",
   "metadata": {},
   "source": [
    "## 1. Introduction <a class=\"anchor\" id=\"sec_1\"></a>\n",
    "Superconductivity is a phenomenon of exactly zero electrical resistance and expulsion of magnetic flux fields occurring in certain materials, called superconductors, when cooled below a characteristic critical temperature. Superconductors are widely used in many industry fields, e.g. the Magnetic Resonance Imaging (MRI) in health care, electricity transportation in energy industry and magnetic separation, etc.\n",
    "\n",
    "In this task, we are going to analyze superconductor data from the Superconducting Material Database maintained by Japan’s National Institute for Materials Science (NIMS). The aim is to build statistical models that can predict\n",
    "Critical Temperature based on the material’s chemical properties.\n",
    "\n",
    "These are the two tasks of this analysis: \n",
    "- **predict** the critical temperature Tc given some chemical properties of a material?\n",
    "- **explain** prediction and the associated findings? "
   ]
  },
  {
   "cell_type": "markdown",
   "metadata": {},
   "source": [
    "Lets start with loading the required libraries."
   ]
  },
  {
   "cell_type": "code",
   "execution_count": 1,
   "metadata": {},
   "outputs": [
    {
     "name": "stderr",
     "output_type": "stream",
     "text": [
      "\n",
      "Attaching package: 'dplyr'\n",
      "\n",
      "The following objects are masked from 'package:stats':\n",
      "\n",
      "    filter, lag\n",
      "\n",
      "The following objects are masked from 'package:base':\n",
      "\n",
      "    intersect, setdiff, setequal, union\n",
      "\n",
      "Registered S3 methods overwritten by 'ggplot2':\n",
      "  method         from \n",
      "  [.quosures     rlang\n",
      "  c.quosures     rlang\n",
      "  print.quosures rlang\n",
      "Registered S3 method overwritten by 'GGally':\n",
      "  method from   \n",
      "  +.gg   ggplot2\n",
      "\n",
      "Attaching package: 'GGally'\n",
      "\n",
      "The following object is masked from 'package:dplyr':\n",
      "\n",
      "    nasa\n",
      "\n",
      "\n",
      "Attaching package: 'gridExtra'\n",
      "\n",
      "The following object is masked from 'package:dplyr':\n",
      "\n",
      "    combine\n",
      "\n",
      "Loading required package: carData\n",
      "\n",
      "Attaching package: 'car'\n",
      "\n",
      "The following object is masked from 'package:dplyr':\n",
      "\n",
      "    recode\n",
      "\n",
      "Loading required package: Matrix\n",
      "Loading required package: foreach\n",
      "Loaded glmnet 2.0-18\n",
      "\n",
      "\n",
      "Attaching package: 'xgboost'\n",
      "\n",
      "The following object is masked from 'package:dplyr':\n",
      "\n",
      "    slice\n",
      "\n"
     ]
    }
   ],
   "source": [
    "# Load Libraries\n",
    "library(dplyr)\n",
    "library(reshape2)\n",
    "library(ggplot2)\n",
    "library(GGally)\n",
    "library(grid)\n",
    "library(gridExtra)\n",
    "library(scales)\n",
    "library(car)\n",
    "library(glmnet)\n",
    "library(praznik)\n",
    "library(xgboost)"
   ]
  },
  {
   "cell_type": "markdown",
   "metadata": {},
   "source": [
    "Reading the data and exploring"
   ]
  },
  {
   "cell_type": "code",
   "execution_count": 2,
   "metadata": {},
   "outputs": [],
   "source": [
    "# Read Data\n",
    "super <- read.csv(\"train.csv\")"
   ]
  },
  {
   "cell_type": "code",
   "execution_count": 3,
   "metadata": {},
   "outputs": [
    {
     "data": {
      "text/html": [
       "<table>\n",
       "<thead><tr><th scope=col>number_of_elements</th><th scope=col>mean_atomic_mass</th><th scope=col>wtd_mean_atomic_mass</th><th scope=col>gmean_atomic_mass</th><th scope=col>wtd_gmean_atomic_mass</th><th scope=col>entropy_atomic_mass</th><th scope=col>wtd_entropy_atomic_mass</th><th scope=col>range_atomic_mass</th><th scope=col>wtd_range_atomic_mass</th><th scope=col>std_atomic_mass</th><th scope=col>...</th><th scope=col>wtd_mean_Valence</th><th scope=col>gmean_Valence</th><th scope=col>wtd_gmean_Valence</th><th scope=col>entropy_Valence</th><th scope=col>wtd_entropy_Valence</th><th scope=col>range_Valence</th><th scope=col>wtd_range_Valence</th><th scope=col>std_Valence</th><th scope=col>wtd_std_Valence</th><th scope=col>critical_temp</th></tr></thead>\n",
       "<tbody>\n",
       "\t<tr><td>4        </td><td>88.94447 </td><td>57.86269 </td><td>66.36159 </td><td>36.11661 </td><td>1.181795 </td><td>1.0623955</td><td>122.9061 </td><td>31.79492 </td><td>51.96883 </td><td>...      </td><td>2.257143 </td><td>2.213364 </td><td>2.219783 </td><td>1.368922 </td><td>1.066221 </td><td>1        </td><td>1.085714 </td><td>0.4330127</td><td>0.4370588</td><td>29       </td></tr>\n",
       "\t<tr><td>5        </td><td>92.72921 </td><td>58.51842 </td><td>73.13279 </td><td>36.39660 </td><td>1.449309 </td><td>1.0577551</td><td>122.9061 </td><td>36.16194 </td><td>47.09463 </td><td>...      </td><td>2.257143 </td><td>1.888175 </td><td>2.210679 </td><td>1.557113 </td><td>1.047221 </td><td>2        </td><td>1.128571 </td><td>0.6324555</td><td>0.4686063</td><td>26       </td></tr>\n",
       "\t<tr><td>4        </td><td>88.94447 </td><td>57.88524 </td><td>66.36159 </td><td>36.12251 </td><td>1.181795 </td><td>0.9759805</td><td>122.9061 </td><td>35.74110 </td><td>51.96883 </td><td>...      </td><td>2.271429 </td><td>2.213364 </td><td>2.232679 </td><td>1.368922 </td><td>1.029175 </td><td>1        </td><td>1.114286 </td><td>0.4330127</td><td>0.4446966</td><td>19       </td></tr>\n",
       "\t<tr><td>4        </td><td>88.94447 </td><td>57.87397 </td><td>66.36159 </td><td>36.11956 </td><td>1.181795 </td><td>1.0222909</td><td>122.9061 </td><td>33.76801 </td><td>51.96883 </td><td>...      </td><td>2.264286 </td><td>2.213364 </td><td>2.226222 </td><td>1.368922 </td><td>1.048834 </td><td>1        </td><td>1.100000 </td><td>0.4330127</td><td>0.4409521</td><td>22       </td></tr>\n",
       "\t<tr><td>4        </td><td>88.94447 </td><td>57.84014 </td><td>66.36159 </td><td>36.11072 </td><td>1.181795 </td><td>1.1292237</td><td>122.9061 </td><td>27.84874 </td><td>51.96883 </td><td>...      </td><td>2.242857 </td><td>2.213364 </td><td>2.206963 </td><td>1.368922 </td><td>1.096052 </td><td>1        </td><td>1.057143 </td><td>0.4330127</td><td>0.4288095</td><td>23       </td></tr>\n",
       "\t<tr><td>4        </td><td>88.94447 </td><td>57.79504 </td><td>66.36159 </td><td>36.09893 </td><td>1.181795 </td><td>1.2252028</td><td>122.9061 </td><td>20.68746 </td><td>51.96883 </td><td>...      </td><td>2.214286 </td><td>2.213364 </td><td>2.181543 </td><td>1.368922 </td><td>1.141474 </td><td>1        </td><td>1.000000 </td><td>0.4330127</td><td>0.4103259</td><td>23       </td></tr>\n",
       "</tbody>\n",
       "</table>\n"
      ],
      "text/latex": [
       "\\begin{tabular}{r|llllllllllllllllllllllllllllllllllllllllllllllllllllllllllllllllllllllllllllllllll}\n",
       " number\\_of\\_elements & mean\\_atomic\\_mass & wtd\\_mean\\_atomic\\_mass & gmean\\_atomic\\_mass & wtd\\_gmean\\_atomic\\_mass & entropy\\_atomic\\_mass & wtd\\_entropy\\_atomic\\_mass & range\\_atomic\\_mass & wtd\\_range\\_atomic\\_mass & std\\_atomic\\_mass & ... & wtd\\_mean\\_Valence & gmean\\_Valence & wtd\\_gmean\\_Valence & entropy\\_Valence & wtd\\_entropy\\_Valence & range\\_Valence & wtd\\_range\\_Valence & std\\_Valence & wtd\\_std\\_Valence & critical\\_temp\\\\\n",
       "\\hline\n",
       "\t 4         & 88.94447  & 57.86269  & 66.36159  & 36.11661  & 1.181795  & 1.0623955 & 122.9061  & 31.79492  & 51.96883  & ...       & 2.257143  & 2.213364  & 2.219783  & 1.368922  & 1.066221  & 1         & 1.085714  & 0.4330127 & 0.4370588 & 29       \\\\\n",
       "\t 5         & 92.72921  & 58.51842  & 73.13279  & 36.39660  & 1.449309  & 1.0577551 & 122.9061  & 36.16194  & 47.09463  & ...       & 2.257143  & 1.888175  & 2.210679  & 1.557113  & 1.047221  & 2         & 1.128571  & 0.6324555 & 0.4686063 & 26       \\\\\n",
       "\t 4         & 88.94447  & 57.88524  & 66.36159  & 36.12251  & 1.181795  & 0.9759805 & 122.9061  & 35.74110  & 51.96883  & ...       & 2.271429  & 2.213364  & 2.232679  & 1.368922  & 1.029175  & 1         & 1.114286  & 0.4330127 & 0.4446966 & 19       \\\\\n",
       "\t 4         & 88.94447  & 57.87397  & 66.36159  & 36.11956  & 1.181795  & 1.0222909 & 122.9061  & 33.76801  & 51.96883  & ...       & 2.264286  & 2.213364  & 2.226222  & 1.368922  & 1.048834  & 1         & 1.100000  & 0.4330127 & 0.4409521 & 22       \\\\\n",
       "\t 4         & 88.94447  & 57.84014  & 66.36159  & 36.11072  & 1.181795  & 1.1292237 & 122.9061  & 27.84874  & 51.96883  & ...       & 2.242857  & 2.213364  & 2.206963  & 1.368922  & 1.096052  & 1         & 1.057143  & 0.4330127 & 0.4288095 & 23       \\\\\n",
       "\t 4         & 88.94447  & 57.79504  & 66.36159  & 36.09893  & 1.181795  & 1.2252028 & 122.9061  & 20.68746  & 51.96883  & ...       & 2.214286  & 2.213364  & 2.181543  & 1.368922  & 1.141474  & 1         & 1.000000  & 0.4330127 & 0.4103259 & 23       \\\\\n",
       "\\end{tabular}\n"
      ],
      "text/markdown": [
       "\n",
       "| number_of_elements | mean_atomic_mass | wtd_mean_atomic_mass | gmean_atomic_mass | wtd_gmean_atomic_mass | entropy_atomic_mass | wtd_entropy_atomic_mass | range_atomic_mass | wtd_range_atomic_mass | std_atomic_mass | ... | wtd_mean_Valence | gmean_Valence | wtd_gmean_Valence | entropy_Valence | wtd_entropy_Valence | range_Valence | wtd_range_Valence | std_Valence | wtd_std_Valence | critical_temp |\n",
       "|---|---|---|---|---|---|---|---|---|---|---|---|---|---|---|---|---|---|---|---|---|\n",
       "| 4         | 88.94447  | 57.86269  | 66.36159  | 36.11661  | 1.181795  | 1.0623955 | 122.9061  | 31.79492  | 51.96883  | ...       | 2.257143  | 2.213364  | 2.219783  | 1.368922  | 1.066221  | 1         | 1.085714  | 0.4330127 | 0.4370588 | 29        |\n",
       "| 5         | 92.72921  | 58.51842  | 73.13279  | 36.39660  | 1.449309  | 1.0577551 | 122.9061  | 36.16194  | 47.09463  | ...       | 2.257143  | 1.888175  | 2.210679  | 1.557113  | 1.047221  | 2         | 1.128571  | 0.6324555 | 0.4686063 | 26        |\n",
       "| 4         | 88.94447  | 57.88524  | 66.36159  | 36.12251  | 1.181795  | 0.9759805 | 122.9061  | 35.74110  | 51.96883  | ...       | 2.271429  | 2.213364  | 2.232679  | 1.368922  | 1.029175  | 1         | 1.114286  | 0.4330127 | 0.4446966 | 19        |\n",
       "| 4         | 88.94447  | 57.87397  | 66.36159  | 36.11956  | 1.181795  | 1.0222909 | 122.9061  | 33.76801  | 51.96883  | ...       | 2.264286  | 2.213364  | 2.226222  | 1.368922  | 1.048834  | 1         | 1.100000  | 0.4330127 | 0.4409521 | 22        |\n",
       "| 4         | 88.94447  | 57.84014  | 66.36159  | 36.11072  | 1.181795  | 1.1292237 | 122.9061  | 27.84874  | 51.96883  | ...       | 2.242857  | 2.213364  | 2.206963  | 1.368922  | 1.096052  | 1         | 1.057143  | 0.4330127 | 0.4288095 | 23        |\n",
       "| 4         | 88.94447  | 57.79504  | 66.36159  | 36.09893  | 1.181795  | 1.2252028 | 122.9061  | 20.68746  | 51.96883  | ...       | 2.214286  | 2.213364  | 2.181543  | 1.368922  | 1.141474  | 1         | 1.000000  | 0.4330127 | 0.4103259 | 23        |\n",
       "\n"
      ],
      "text/plain": [
       "  number_of_elements mean_atomic_mass wtd_mean_atomic_mass gmean_atomic_mass\n",
       "1 4                  88.94447         57.86269             66.36159         \n",
       "2 5                  92.72921         58.51842             73.13279         \n",
       "3 4                  88.94447         57.88524             66.36159         \n",
       "4 4                  88.94447         57.87397             66.36159         \n",
       "5 4                  88.94447         57.84014             66.36159         \n",
       "6 4                  88.94447         57.79504             66.36159         \n",
       "  wtd_gmean_atomic_mass entropy_atomic_mass wtd_entropy_atomic_mass\n",
       "1 36.11661              1.181795            1.0623955              \n",
       "2 36.39660              1.449309            1.0577551              \n",
       "3 36.12251              1.181795            0.9759805              \n",
       "4 36.11956              1.181795            1.0222909              \n",
       "5 36.11072              1.181795            1.1292237              \n",
       "6 36.09893              1.181795            1.2252028              \n",
       "  range_atomic_mass wtd_range_atomic_mass std_atomic_mass ... wtd_mean_Valence\n",
       "1 122.9061          31.79492              51.96883        ... 2.257143        \n",
       "2 122.9061          36.16194              47.09463        ... 2.257143        \n",
       "3 122.9061          35.74110              51.96883        ... 2.271429        \n",
       "4 122.9061          33.76801              51.96883        ... 2.264286        \n",
       "5 122.9061          27.84874              51.96883        ... 2.242857        \n",
       "6 122.9061          20.68746              51.96883        ... 2.214286        \n",
       "  gmean_Valence wtd_gmean_Valence entropy_Valence wtd_entropy_Valence\n",
       "1 2.213364      2.219783          1.368922        1.066221           \n",
       "2 1.888175      2.210679          1.557113        1.047221           \n",
       "3 2.213364      2.232679          1.368922        1.029175           \n",
       "4 2.213364      2.226222          1.368922        1.048834           \n",
       "5 2.213364      2.206963          1.368922        1.096052           \n",
       "6 2.213364      2.181543          1.368922        1.141474           \n",
       "  range_Valence wtd_range_Valence std_Valence wtd_std_Valence critical_temp\n",
       "1 1             1.085714          0.4330127   0.4370588       29           \n",
       "2 2             1.128571          0.6324555   0.4686063       26           \n",
       "3 1             1.114286          0.4330127   0.4446966       19           \n",
       "4 1             1.100000          0.4330127   0.4409521       22           \n",
       "5 1             1.057143          0.4330127   0.4288095       23           \n",
       "6 1             1.000000          0.4330127   0.4103259       23           "
      ]
     },
     "metadata": {},
     "output_type": "display_data"
    },
    {
     "name": "stdout",
     "output_type": "stream",
     "text": [
      "The Super condutors dataset has 21263 records, each with 82 attributes. The structure is:\n",
      "\n"
     ]
    },
    {
     "data": {
      "text/plain": [
       " number_of_elements mean_atomic_mass  wtd_mean_atomic_mass gmean_atomic_mass\n",
       " Min.   :1.000      Min.   :  6.941   Min.   :  6.423      Min.   :  5.321  \n",
       " 1st Qu.:3.000      1st Qu.: 72.458   1st Qu.: 52.144      1st Qu.: 58.041  \n",
       " Median :4.000      Median : 84.923   Median : 60.697      Median : 66.362  \n",
       " Mean   :4.115      Mean   : 87.558   Mean   : 72.988      Mean   : 71.291  \n",
       " 3rd Qu.:5.000      3rd Qu.:100.404   3rd Qu.: 86.104      3rd Qu.: 78.117  \n",
       " Max.   :9.000      Max.   :208.980   Max.   :208.980      Max.   :208.980  \n",
       " wtd_gmean_atomic_mass entropy_atomic_mass wtd_entropy_atomic_mass\n",
       " Min.   :  1.961       Min.   :0.0000      Min.   :0.0000         \n",
       " 1st Qu.: 35.249       1st Qu.:0.9667      1st Qu.:0.7754         \n",
       " Median : 39.918       Median :1.1995      Median :1.1468         \n",
       " Mean   : 58.540       Mean   :1.1656      Mean   :1.0639         \n",
       " 3rd Qu.: 73.113       3rd Qu.:1.4445      3rd Qu.:1.3594         \n",
       " Max.   :208.980       Max.   :1.9838      Max.   :1.9582         \n",
       " range_atomic_mass wtd_range_atomic_mass std_atomic_mass  wtd_std_atomic_mass\n",
       " Min.   :  0.00    Min.   :  0.00        Min.   :  0.00   Min.   :  0.00     \n",
       " 1st Qu.: 78.51    1st Qu.: 16.82        1st Qu.: 32.89   1st Qu.: 28.54     \n",
       " Median :122.91    Median : 26.64        Median : 45.12   Median : 44.29     \n",
       " Mean   :115.60    Mean   : 33.23        Mean   : 44.39   Mean   : 41.45     \n",
       " 3rd Qu.:154.12    3rd Qu.: 38.36        3rd Qu.: 59.32   3rd Qu.: 53.63     \n",
       " Max.   :207.97    Max.   :205.59        Max.   :101.02   Max.   :101.02     \n",
       "    mean_fie       wtd_mean_fie      gmean_fie      wtd_gmean_fie   \n",
       " Min.   : 375.5   Min.   : 375.5   Min.   : 375.5   Min.   : 375.5  \n",
       " 1st Qu.: 723.7   1st Qu.: 738.9   1st Qu.: 692.5   1st Qu.: 720.1  \n",
       " Median : 764.9   Median : 890.0   Median : 728.0   Median : 856.2  \n",
       " Mean   : 769.6   Mean   : 870.4   Mean   : 737.5   Mean   : 832.8  \n",
       " 3rd Qu.: 796.3   3rd Qu.:1004.1   3rd Qu.: 765.7   3rd Qu.: 937.6  \n",
       " Max.   :1313.1   Max.   :1348.0   Max.   :1313.1   Max.   :1327.6  \n",
       "  entropy_fie    wtd_entropy_fie    range_fie      wtd_range_fie   \n",
       " Min.   :0.000   Min.   :0.0000   Min.   :   0.0   Min.   :   0.0  \n",
       " 1st Qu.:1.086   1st Qu.:0.7538   1st Qu.: 262.4   1st Qu.: 291.1  \n",
       " Median :1.356   Median :0.9168   Median : 764.1   Median : 510.4  \n",
       " Mean   :1.299   Mean   :0.9267   Mean   : 572.2   Mean   : 483.5  \n",
       " 3rd Qu.:1.551   3rd Qu.:1.0618   3rd Qu.: 810.6   3rd Qu.: 690.7  \n",
       " Max.   :2.158   Max.   :2.0386   Max.   :1304.5   Max.   :1251.9  \n",
       "    std_fie       wtd_std_fie     mean_atomic_radius wtd_mean_atomic_radius\n",
       " Min.   :  0.0   Min.   :  0.00   Min.   : 48.0      Min.   : 48.0         \n",
       " 1st Qu.:114.1   1st Qu.: 92.99   1st Qu.:149.3      1st Qu.:112.1         \n",
       " Median :266.4   Median :258.45   Median :160.2      Median :126.0         \n",
       " Mean   :215.6   Mean   :224.05   Mean   :158.0      Mean   :134.7         \n",
       " 3rd Qu.:297.7   3rd Qu.:342.66   3rd Qu.:169.9      3rd Qu.:158.3         \n",
       " Max.   :499.7   Max.   :479.16   Max.   :298.0      Max.   :298.0         \n",
       " gmean_atomic_radius wtd_gmean_atomic_radius entropy_atomic_radius\n",
       " Min.   : 48.0       Min.   : 48.00          Min.   :0.000        \n",
       " 1st Qu.:133.5       1st Qu.: 89.21          1st Qu.:1.066        \n",
       " Median :142.8       Median :113.18          Median :1.331        \n",
       " Mean   :144.4       Mean   :120.99          Mean   :1.268        \n",
       " 3rd Qu.:155.9       3rd Qu.:150.99          3rd Qu.:1.512        \n",
       " Max.   :298.0       Max.   :298.00          Max.   :2.142        \n",
       " wtd_entropy_atomic_radius range_atomic_radius wtd_range_atomic_radius\n",
       " Min.   :0.0000            Min.   :  0.0       Min.   :  0.00         \n",
       " 1st Qu.:0.8522            1st Qu.: 80.0       1st Qu.: 28.60         \n",
       " Median :1.2429            Median :171.0       Median : 43.00         \n",
       " Mean   :1.1311            Mean   :139.3       Mean   : 51.37         \n",
       " 3rd Qu.:1.4257            3rd Qu.:205.0       3rd Qu.: 60.22         \n",
       " Max.   :1.9037            Max.   :256.0       Max.   :240.16         \n",
       " std_atomic_radius wtd_std_atomic_radius  mean_Density      \n",
       " Min.   :  0.00    Min.   : 0.00         Min.   :    1.429  \n",
       " 1st Qu.: 35.11    1st Qu.:32.02         1st Qu.: 4513.500  \n",
       " Median : 58.66    Median :59.93         Median : 5329.086  \n",
       " Mean   : 51.60    Mean   :52.34         Mean   : 6111.465  \n",
       " 3rd Qu.: 69.42    3rd Qu.:73.78         3rd Qu.: 6728.000  \n",
       " Max.   :115.50    Max.   :97.14         Max.   :22590.000  \n",
       " wtd_mean_Density    gmean_Density       wtd_gmean_Density   entropy_Density\n",
       " Min.   :    1.429   Min.   :    1.429   Min.   :    0.686   Min.   :0.000  \n",
       " 1st Qu.: 2999.158   1st Qu.:  883.117   1st Qu.:   66.747   1st Qu.:0.914  \n",
       " Median : 4303.422   Median : 1339.975   Median : 1515.365   Median :1.091  \n",
       " Mean   : 5267.189   Mean   : 3460.692   Mean   : 3117.241   Mean   :1.072  \n",
       " 3rd Qu.: 6416.333   3rd Qu.: 5794.965   3rd Qu.: 5766.015   3rd Qu.:1.324  \n",
       " Max.   :22590.000   Max.   :22590.000   Max.   :22590.000   Max.   :1.954  \n",
       " wtd_entropy_Density range_Density   wtd_range_Density  std_Density   \n",
       " Min.   :0.0000      Min.   :    0   Min.   :    0     Min.   :    0  \n",
       " 1st Qu.:0.6887      1st Qu.: 6648   1st Qu.: 1657     1st Qu.: 2819  \n",
       " Median :0.8827      Median : 8959   Median : 2083     Median : 3302  \n",
       " Mean   :0.8560      Mean   : 8665   Mean   : 2903     Mean   : 3417  \n",
       " 3rd Qu.:1.0809      3rd Qu.: 9779   3rd Qu.: 3409     3rd Qu.: 4004  \n",
       " Max.   :1.7034      Max.   :22589   Max.   :22434     Max.   :10724  \n",
       " wtd_std_Density mean_ElectronAffinity wtd_mean_ElectronAffinity\n",
       " Min.   :    0   Min.   :  1.50        Min.   :  1.50           \n",
       " 1st Qu.: 2564   1st Qu.: 62.09        1st Qu.: 73.35           \n",
       " Median : 3626   Median : 73.10        Median :102.86           \n",
       " Mean   : 3319   Mean   : 76.88        Mean   : 92.72           \n",
       " 3rd Qu.: 3959   3rd Qu.: 85.50        3rd Qu.:110.74           \n",
       " Max.   :10411   Max.   :326.10        Max.   :326.10           \n",
       " gmean_ElectronAffinity wtd_gmean_ElectronAffinity entropy_ElectronAffinity\n",
       " Min.   :  1.50         Min.   :  1.50             Min.   :0.0000          \n",
       " 1st Qu.: 33.70         1st Qu.: 50.77             1st Qu.:0.8906          \n",
       " Median : 51.47         Median : 73.17             Median :1.1383          \n",
       " Mean   : 54.36         Mean   : 72.42             Mean   :1.0702          \n",
       " 3rd Qu.: 67.51         3rd Qu.: 89.98             3rd Qu.:1.3459          \n",
       " Max.   :326.10         Max.   :326.10             Max.   :1.7677          \n",
       " wtd_entropy_ElectronAffinity range_ElectronAffinity wtd_range_ElectronAffinity\n",
       " Min.   :0.0000               Min.   :  0.0          Min.   :  0.00            \n",
       " 1st Qu.:0.6607               1st Qu.: 86.7          1st Qu.: 34.04            \n",
       " Median :0.7812               Median :127.0          Median : 71.16            \n",
       " Mean   :0.7708               Mean   :120.7          Mean   : 59.33            \n",
       " 3rd Qu.:0.8775               3rd Qu.:138.6          3rd Qu.: 76.71            \n",
       " Max.   :1.6754               Max.   :349.0          Max.   :218.70            \n",
       " std_ElectronAffinity wtd_std_ElectronAffinity mean_FusionHeat  \n",
       " Min.   :  0.00       Min.   :  0.00           Min.   :  0.222  \n",
       " 1st Qu.: 38.37       1st Qu.: 33.44           1st Qu.:  7.589  \n",
       " Median : 51.13       Median : 48.03           Median :  9.304  \n",
       " Mean   : 48.91       Mean   : 44.41           Mean   : 14.296  \n",
       " 3rd Qu.: 56.22       3rd Qu.: 53.32           3rd Qu.: 17.114  \n",
       " Max.   :162.90       Max.   :169.08           Max.   :105.000  \n",
       " wtd_mean_FusionHeat gmean_FusionHeat  wtd_gmean_FusionHeat entropy_FusionHeat\n",
       " Min.   :  0.222     Min.   :  0.222   Min.   :  0.222      Min.   :0.0000    \n",
       " 1st Qu.:  5.033     1st Qu.:  4.110   1st Qu.:  1.322      1st Qu.:0.8333    \n",
       " Median :  8.331     Median :  5.253   Median :  4.930      Median :1.1121    \n",
       " Mean   : 13.848     Mean   : 10.137   Mean   : 10.141      Mean   :1.0933    \n",
       " 3rd Qu.: 18.514     3rd Qu.: 13.600   3rd Qu.: 16.429      3rd Qu.:1.3781    \n",
       " Max.   :105.000     Max.   :105.000   Max.   :105.000      Max.   :2.0344    \n",
       " wtd_entropy_FusionHeat range_FusionHeat wtd_range_FusionHeat std_FusionHeat  \n",
       " Min.   :0.0000         Min.   :  0.00   Min.   :  0.000      Min.   : 0.000  \n",
       " 1st Qu.:0.6727         1st Qu.: 12.88   1st Qu.:  2.329      1st Qu.: 4.261  \n",
       " Median :0.9950         Median : 12.88   Median :  3.436      Median : 4.948  \n",
       " Mean   :0.9141         Mean   : 21.14   Mean   :  8.219      Mean   : 8.323  \n",
       " 3rd Qu.:1.1574         3rd Qu.: 23.20   3rd Qu.: 10.499      3rd Qu.: 9.041  \n",
       " Max.   :1.7472         Max.   :104.78   Max.   :102.675      Max.   :51.635  \n",
       " wtd_std_FusionHeat mean_ThermalConductivity wtd_mean_ThermalConductivity\n",
       " Min.   : 0.000     Min.   :  0.0266         Min.   :  0.0266            \n",
       " 1st Qu.: 4.603     1st Qu.: 61.0000         1st Qu.: 54.1810            \n",
       " Median : 5.501     Median : 96.5044         Median : 73.3333            \n",
       " Mean   : 7.718     Mean   : 89.7069         Mean   : 81.5491            \n",
       " 3rd Qu.: 8.018     3rd Qu.:111.0053         3rd Qu.: 99.0629            \n",
       " Max.   :51.680     Max.   :332.5000         Max.   :406.9600            \n",
       " gmean_ThermalConductivity wtd_gmean_ThermalConductivity\n",
       " Min.   :  0.0266          Min.   :  0.023              \n",
       " 1st Qu.:  8.3398          1st Qu.:  1.087              \n",
       " Median : 14.2876          Median :  6.096              \n",
       " Mean   : 29.8417          Mean   : 27.308              \n",
       " 3rd Qu.: 42.3713          3rd Qu.: 47.308              \n",
       " Max.   :317.8836          Max.   :376.033              \n",
       " entropy_ThermalConductivity wtd_entropy_ThermalConductivity\n",
       " Min.   :0.0000              Min.   :0.0000                 \n",
       " 1st Qu.:0.4578              1st Qu.:0.2507                 \n",
       " Median :0.7387              Median :0.5458                 \n",
       " Mean   :0.7276              Mean   :0.5400                 \n",
       " 3rd Qu.:0.9622              3rd Qu.:0.7774                 \n",
       " Max.   :1.6340              Max.   :1.6130                 \n",
       " range_ThermalConductivity wtd_range_ThermalConductivity\n",
       " Min.   :  0.00            Min.   :  0.00               \n",
       " 1st Qu.: 86.38            1st Qu.: 29.35               \n",
       " Median :399.80            Median : 56.56               \n",
       " Mean   :250.89            Mean   : 62.03               \n",
       " 3rd Qu.:399.97            3rd Qu.: 91.87               \n",
       " Max.   :429.97            Max.   :401.44               \n",
       " std_ThermalConductivity wtd_std_ThermalConductivity  mean_Valence  \n",
       " Min.   :  0.00          Min.   :  0.00              Min.   :1.000  \n",
       " 1st Qu.: 37.93          1st Qu.: 31.99              1st Qu.:2.333  \n",
       " Median :135.76          Median :113.56              Median :2.833  \n",
       " Mean   : 98.94          Mean   : 96.23              Mean   :3.198  \n",
       " 3rd Qu.:153.81          3rd Qu.:162.71              3rd Qu.:4.000  \n",
       " Max.   :214.99          Max.   :213.30              Max.   :7.000  \n",
       " wtd_mean_Valence gmean_Valence   wtd_gmean_Valence entropy_Valence\n",
       " Min.   :1.000    Min.   :1.000   Min.   :1.000     Min.   :0.000  \n",
       " 1st Qu.:2.117    1st Qu.:2.280   1st Qu.:2.091     1st Qu.:1.061  \n",
       " Median :2.618    Median :2.615   Median :2.434     Median :1.369  \n",
       " Mean   :3.153    Mean   :3.057   Mean   :3.056     Mean   :1.296  \n",
       " 3rd Qu.:4.026    3rd Qu.:3.728   3rd Qu.:3.915     3rd Qu.:1.589  \n",
       " Max.   :7.000    Max.   :7.000   Max.   :7.000     Max.   :2.142  \n",
       " wtd_entropy_Valence range_Valence   wtd_range_Valence  std_Valence    \n",
       " Min.   :0.0000      Min.   :0.000   Min.   :0.0000    Min.   :0.0000  \n",
       " 1st Qu.:0.7757      1st Qu.:1.000   1st Qu.:0.9215    1st Qu.:0.4518  \n",
       " Median :1.1665      Median :2.000   Median :1.0631    Median :0.8000  \n",
       " Mean   :1.0528      Mean   :2.041   Mean   :1.4830    Mean   :0.8393  \n",
       " 3rd Qu.:1.3308      3rd Qu.:3.000   3rd Qu.:1.9184    3rd Qu.:1.2000  \n",
       " Max.   :1.9497      Max.   :6.000   Max.   :6.9922    Max.   :3.0000  \n",
       " wtd_std_Valence  critical_temp      \n",
       " Min.   :0.0000   Min.   :  0.00021  \n",
       " 1st Qu.:0.3069   1st Qu.:  5.36500  \n",
       " Median :0.5000   Median : 20.00000  \n",
       " Mean   :0.6740   Mean   : 34.42122  \n",
       " 3rd Qu.:1.0204   3rd Qu.: 63.00000  \n",
       " Max.   :3.0000   Max.   :185.00000  "
      ]
     },
     "metadata": {},
     "output_type": "display_data"
    }
   ],
   "source": [
    "# Checking first few rows\n",
    "head(super)\n",
    "\n",
    "# Display the dimensions\n",
    "cat(\"The Super condutors dataset has\", dim(super)[1], \"records, each with\", dim(super)[2],\n",
    "    \"attributes. The structure is:\\n\\n\")\n",
    "\n",
    "# Display the summary statistics\n",
    "summary(super)"
   ]
  },
  {
   "cell_type": "code",
   "execution_count": 4,
   "metadata": {
    "scrolled": true
   },
   "outputs": [
    {
     "data": {
      "image/png": "[encoded data removed]",
      "text/plain": [
       "Plot with title \"Histogram of super$critical_temp\""
      ]
     },
     "metadata": {},
     "output_type": "display_data"
    }
   ],
   "source": [
    "# Checking the distribution of target variable\n",
    "hist(super$critical_temp)"
   ]
  },
  {
   "cell_type": "markdown",
   "metadata": {},
   "source": [
    "The distribution of critical temp appears to be right skewed, indicating the range of cirtical temp for most supercondutors is at very cold temperatures. "
   ]
  },
  {
   "cell_type": "markdown",
   "metadata": {},
   "source": [
    "## 2. Data Exploration<a class=\"anchor\" id=\"sec_2\"></a>"
   ]
  },
  {
   "cell_type": "markdown",
   "metadata": {},
   "source": [
    "#### Number Of Elements\n",
    "Let us analyse how the critical temperature changes with number of elements by plotting a distribution of critical temperatture for each value of number of elements. "
   ]
  },
  {
   "cell_type": "code",
   "execution_count": 5,
   "metadata": {},
   "outputs": [
    {
     "data": {
      "image/png": "[encoded data removed]",
      "text/plain": [
       "plot without title"
      ]
     },
     "metadata": {},
     "output_type": "display_data"
    }
   ],
   "source": [
    "# Plotting histogram for each value of number of elements\n",
    "ggplot(super,aes(critical_temp)) + geom_histogram(binwidth = 20) + facet_wrap(~number_of_elements, scales = 'free') + xlab('Critical Temperature') + ylab('Frequency')"
   ]
  },
  {
   "cell_type": "markdown",
   "metadata": {},
   "source": [
    "It can be observed above that as the number of elements in a superconductor material increases, the distribution of critical temperature tends towards normal distribution. In other words, the lesses the number of elements, more likely it is that its critical temperature is very low. "
   ]
  },
  {
   "cell_type": "markdown",
   "metadata": {},
   "source": [
    "Data Contains 8 properties about the superconductor material and each property is described by 10 features as follows:\n",
    "\n",
    "Properties: **Atomic Mass, fie, atomic radius, Density, Electron Affinity, Fusion Heat, Thermal Conductivity, Valence**\n",
    "\n",
    "Features for each property: **mean, wtd_mean, gmean, wtd_gmean, entropy, wtd_entropy, range, wtd_range, std, wtd_std**\n",
    "\n",
    "\n",
    "Plotting a corelation of all of these features with response variable `critical_temp`"
   ]
  },
  {
   "cell_type": "code",
   "execution_count": 6,
   "metadata": {},
   "outputs": [
    {
     "data": {
      "image/png": "[encoded data removed]",
      "text/plain": [
       "plot without title"
      ]
     },
     "metadata": {},
     "output_type": "display_data"
    }
   ],
   "source": [
    "# computing corelation matrix\n",
    "corel <- round(cor(super),2)\n",
    "# using melt to get the correlation matrix in a format that is easier to plot\n",
    "melted_corel <- melt(corel) %>% as.data.frame()\n",
    "\n",
    "# Plotting correlation matrix\n",
    "ggplot(data = melted_corel, aes(x=Var1, y=Var2, fill=value)) + geom_tile()"
   ]
  },
  {
   "cell_type": "markdown",
   "metadata": {},
   "source": [
    "This graph is not interpretable. Analysing each property individually in association with critical temperature."
   ]
  },
  {
   "cell_type": "markdown",
   "metadata": {},
   "source": [
    "Writing following helper functions first for preparing the analysing data:\n",
    "- prepdata : to wrangle data selecting 10 specific feature columns for each property.\n",
    "- panel.cor : plotting function to be used with pairs to make lower triagle to show corelations"
   ]
  },
  {
   "cell_type": "code",
   "execution_count": 7,
   "metadata": {},
   "outputs": [],
   "source": [
    "# http://stackoverflow.com/questions/31709982/how-to-plot-in-r-a-correlogram-on-top-of-a-correlation-matrix\n",
    "panel.cor <- function(w, z, ...) {\n",
    "  correlation <- cor(w, z)\n",
    "    \n",
    "  colorRange <- c('#69091e', '#e37f65', 'white', '#aed2e6', '#042f60')\n",
    "  ## colorRamp() returns a function which takes as an argument a number\n",
    "  ## on [0,1] and returns a color in the gradient in colorRange\n",
    "  myColorRampFunc <- colorRamp(colorRange)\n",
    "\n",
    "  ## because the func needs [0,1] and cor gives [-1,1], we need to shift and scale it\n",
    "  col <- rgb(myColorRampFunc((1 + correlation) / 2 ) / 255 )\n",
    "  \n",
    "  ## square it to avoid visual bias due to \"area vs diameter\"\n",
    "  radius <- sqrt(abs(correlation))\n",
    "  radians <- seq(0, 2*pi, len = 50) # 50 is arbitrary\n",
    "  x <- radius * cos(radians)\n",
    "  y <- radius * sin(radians)\n",
    "  ## make them full loops\n",
    "  x <- c(x, tail(x,n=1))\n",
    "  y <- c(y, tail(y,n=1))\n",
    "  \n",
    "  ## trick: \"don't create a new plot\" thing by following the\n",
    "  ## advice here: http://www.r-bloggers.com/multiple-y-axis-in-a-r-plot/\n",
    "  ## This allows\n",
    "  par(new=TRUE)\n",
    "  plot(0, type='n', xlim=c(-1,1), ylim=c(-1,1), axes=FALSE, asp=1)\n",
    "  polygon(x, y, border=col, col=col)\n",
    "}\n",
    "\n",
    "# this function takes df, s=start col, e=end col as argument and return dataframe with selected columns along with response var\n",
    "prepdata <- function(df,s,e){\n",
    "  df <- df[,c(names(df)[s:e],names(df)[82])] \n",
    "  colnames(df) <-  c('mean','wtd_mean','gmean','wtd_gmean','entropy','wtd_entropy','range','wtd_range','std','wtd_std','critical_temp')\n",
    "  return(df)\n",
    "}"
   ]
  },
  {
   "cell_type": "markdown",
   "metadata": {},
   "source": [
    "Creating data frames for each property."
   ]
  },
  {
   "cell_type": "code",
   "execution_count": 8,
   "metadata": {},
   "outputs": [],
   "source": [
    "# Using prepdata to obtain data frames for each property, containing 10 features and critical temp\n",
    "atomicMass           <-prepdata(super,2,11)\n",
    "fie                  <-prepdata(super,12,21)\n",
    "atomicRadius         <-prepdata(super,22,31)\n",
    "density              <-prepdata(super,32,41)\n",
    "electronAffinity     <-prepdata(super,42,51)\n",
    "fusionHeat           <-prepdata(super,52,61)\n",
    "thermalConductivity  <-prepdata(super,62,71)\n",
    "valence              <-prepdata(super,72,81)"
   ]
  },
  {
   "cell_type": "markdown",
   "metadata": {},
   "source": [
    "In the following section each property's all features are plotted to show a relationship with each other and with response variable 'critical temp'. This is done by plotting half a corelation matrix and half of scatter plot. Corelation values indicate the strength of linear relationship and scartter plots show how the values are distributed if there a visible underlying trend."
   ]
  },
  {
   "cell_type": "markdown",
   "metadata": {},
   "source": [
    "#### Atomic Mass\n",
    "features : **mean, wtd_mean, gmean, wtd_gmean, entropy, wtd_entropy, range, wtd_range, std, wtd_std**"
   ]
  },
  {
   "cell_type": "code",
   "execution_count": 9,
   "metadata": {},
   "outputs": [
    {
     "data": {
      "image/png": "[encoded data removed]",
      "text/plain": [
       "plot without title"
      ]
     },
     "metadata": {},
     "output_type": "display_data"
    }
   ],
   "source": [
    "pairs(atomicMass[sample.int(nrow(atomicMass),1000),], lower.panel=panel.cor)"
   ]
  },
  {
   "cell_type": "markdown",
   "metadata": {},
   "source": [
    "The above corelation matrix shows that etropy and wtd_entropy are the ones highly positively corelated to critical temperature. Variables with high negative corelation with target are wtd_mean and wtd_gmean."
   ]
  },
  {
   "cell_type": "markdown",
   "metadata": {},
   "source": [
    "#### fie"
   ]
  },
  {
   "cell_type": "code",
   "execution_count": 10,
   "metadata": {},
   "outputs": [
    {
     "data": {
      "image/png": "[encoded data removed]",
      "text/plain": [
       "plot without title"
      ]
     },
     "metadata": {},
     "output_type": "display_data"
    }
   ],
   "source": [
    "pairs(fie[sample.int(nrow(fie),1000),], lower.panel=panel.cor)"
   ]
  },
  {
   "cell_type": "markdown",
   "metadata": {},
   "source": [
    "For the property fie, the features that have high corelation with critical temp are entropy, range and wtd_std."
   ]
  },
  {
   "cell_type": "markdown",
   "metadata": {},
   "source": [
    "#### Atomic Radius"
   ]
  },
  {
   "cell_type": "code",
   "execution_count": 11,
   "metadata": {},
   "outputs": [
    {
     "data": {
      "image/png": "[encoded data removed]",
      "text/plain": [
       "plot without title"
      ]
     },
     "metadata": {},
     "output_type": "display_data"
    }
   ],
   "source": [
    "pairs(atomicRadius[sample.int(nrow(atomicRadius),1000),], lower.panel=panel.cor)"
   ]
  },
  {
   "cell_type": "markdown",
   "metadata": {},
   "source": [
    "For atomic radius, the features that have high positive corelation with critical temperature are range and wtd_std. Property with high negative corelation are wtd_gmean and wtd_range. Critical temperature vs. Entropy seems to follow a non linear trend. "
   ]
  },
  {
   "cell_type": "markdown",
   "metadata": {},
   "source": [
    "#### Density"
   ]
  },
  {
   "cell_type": "code",
   "execution_count": 12,
   "metadata": {},
   "outputs": [
    {
     "data": {
      "image/png": "[encoded data removed]",
      "text/plain": [
       "plot without title"
      ]
     },
     "metadata": {},
     "output_type": "display_data"
    }
   ],
   "source": [
    "pairs(density[sample.int(nrow(density),1000),], lower.panel=panel.cor)"
   ]
  },
  {
   "cell_type": "markdown",
   "metadata": {},
   "source": [
    "For Density, features with high negative corelation with critical temp are gmean and wtd_gmean. "
   ]
  },
  {
   "cell_type": "markdown",
   "metadata": {},
   "source": [
    "#### Electron Affinity"
   ]
  },
  {
   "cell_type": "code",
   "execution_count": 13,
   "metadata": {},
   "outputs": [
    {
     "data": {
      "image/png": "[encoded data removed]",
      "text/plain": [
       "plot without title"
      ]
     },
     "metadata": {},
     "output_type": "display_data"
    }
   ],
   "source": [
    "pairs(electronAffinity[sample.int(nrow(electronAffinity),1000),], lower.panel=panel.cor)"
   ]
  },
  {
   "cell_type": "markdown",
   "metadata": {},
   "source": [
    "For Electron Affinity, features with high corelation with critical temp are gmean and entropy. "
   ]
  },
  {
   "cell_type": "markdown",
   "metadata": {},
   "source": [
    "#### Fusion Heat"
   ]
  },
  {
   "cell_type": "code",
   "execution_count": 14,
   "metadata": {},
   "outputs": [
    {
     "data": {
      "image/png": "[encoded data removed]",
      "text/plain": [
       "plot without title"
      ]
     },
     "metadata": {},
     "output_type": "display_data"
    }
   ],
   "source": [
    "pairs(fusionHeat[sample.int(nrow(fusionHeat),1000),], lower.panel=panel.cor)"
   ]
  },
  {
   "cell_type": "markdown",
   "metadata": {},
   "source": [
    "For Fusion Heat property, features that have high neagtive corelation with target are mean and gmean. Features with high positive corelation are entropy and wtd_entropy."
   ]
  },
  {
   "cell_type": "markdown",
   "metadata": {},
   "source": [
    "#### Thermal Conductivity"
   ]
  },
  {
   "cell_type": "code",
   "execution_count": 15,
   "metadata": {},
   "outputs": [
    {
     "data": {
      "image/png": "[encoded data removed]",
      "text/plain": [
       "plot without title"
      ]
     },
     "metadata": {},
     "output_type": "display_data"
    }
   ],
   "source": [
    "pairs(thermalConductivity[sample.int(nrow(thermalConductivity),1000),], lower.panel=panel.cor)"
   ]
  },
  {
   "cell_type": "markdown",
   "metadata": {},
   "source": [
    "For Thermal Conductivity, features with high positive corelation with critical temp are range, std and wtd_std. Features with high neagative corelation are gmean and wtd_gmean."
   ]
  },
  {
   "cell_type": "markdown",
   "metadata": {},
   "source": [
    "#### Valence"
   ]
  },
  {
   "cell_type": "code",
   "execution_count": 16,
   "metadata": {},
   "outputs": [
    {
     "data": {
      "image/png": "[encoded data removed]",
      "text/plain": [
       "plot without title"
      ]
     },
     "metadata": {},
     "output_type": "display_data"
    }
   ],
   "source": [
    "pairs(valence[sample.int(nrow(valence),1000),], lower.panel=panel.cor)"
   ]
  },
  {
   "cell_type": "markdown",
   "metadata": {},
   "source": [
    "For Valence, features with high positive corelaion with the target are entropy and wtd_entropy. Features with high negative corelation are mean, wtd_mean, gmean and wtd_gmean. "
   ]
  },
  {
   "cell_type": "markdown",
   "metadata": {},
   "source": [
    "**General Observations:**\n",
    "1. For all properties mean, wtd_mean, gmean and wtd_gmean are highly corelated with each other. \n",
    "2. Amongst all properties, the feature and its wtd corresponding feature are also related as expected. \n",
    "3. Some of the features also have a non-linear relationship with the target variable which can be seen on the scatter plot but is not captured in the corelation metric.\n",
    "4. The entropy feature for all properties has a generally linear relationship with critical temperature. "
   ]
  },
  {
   "cell_type": "markdown",
   "metadata": {},
   "source": [
    "## 3. Model Development<a class=\"anchor\" id=\"sec_3\"></a>"
   ]
  },
  {
   "cell_type": "markdown",
   "metadata": {},
   "source": [
    "#### Test Train Split\n",
    "Spliting the dataset in to training and test set with a 70:30 ration. Train is 70% and test is 30% of data based on a random split done using `sample()` method. "
   ]
  },
  {
   "cell_type": "code",
   "execution_count": 17,
   "metadata": {},
   "outputs": [],
   "source": [
    "# Test - train split\n",
    "set.seed(100)\n",
    "trainindices = sample(1:nrow(super), 0.7*nrow(super))\n",
    "train = super[trainindices,]\n",
    "test = super[-trainindices,]\n",
    "\n",
    "train.x = train[,-82]\n",
    "train.y = train[,82]\n",
    "\n",
    "test.x = test[,-82]\n",
    "test.y = test[,-82]"
   ]
  },
  {
   "cell_type": "code",
   "execution_count": 18,
   "metadata": {},
   "outputs": [
    {
     "data": {
      "text/html": [
       "<ol class=list-inline>\n",
       "\t<li>6379</li>\n",
       "\t<li>81</li>\n",
       "</ol>\n"
      ],
      "text/latex": [
       "\\begin{enumerate*}\n",
       "\\item 6379\n",
       "\\item 81\n",
       "\\end{enumerate*}\n"
      ],
      "text/markdown": [
       "1. 6379\n",
       "2. 81\n",
       "\n",
       "\n"
      ],
      "text/plain": [
       "[1] 6379   81"
      ]
     },
     "metadata": {},
     "output_type": "display_data"
    }
   ],
   "source": [
    "dim(test.x)"
   ]
  },
  {
   "cell_type": "markdown",
   "metadata": {},
   "source": [
    "### Model 1 : Building first model using features that have high correlation with target variable"
   ]
  },
  {
   "cell_type": "markdown",
   "metadata": {},
   "source": [
    "Checking the **variance** of all features and removing features where variation is less than 0.1 (10%) as it would not have significant contribution to the model due to value not changing much. "
   ]
  },
  {
   "cell_type": "code",
   "execution_count": 19,
   "metadata": {},
   "outputs": [
    {
     "data": {
      "text/html": [
       "<dl class=dl-horizontal>\n",
       "\t<dt>wtd_entropy_ElectronAffinity</dt>\n",
       "\t\t<dd>0.0822349739081574</dd>\n",
       "\t<dt>wtd_entropy_ThermalConductivity</dt>\n",
       "\t\t<dd>0.101397300120122</dd>\n",
       "\t<dt>wtd_entropy_Density</dt>\n",
       "\t\t<dd>0.101791838176242</dd>\n",
       "\t<dt>entropy_ThermalConductivity</dt>\n",
       "\t\t<dd>0.106022450926552</dd>\n",
       "\t<dt>wtd_entropy_fie</dt>\n",
       "\t\t<dd>0.112269605989031</dd>\n",
       "\t<dt>entropy_Density</dt>\n",
       "\t\t<dd>0.116003662866229</dd>\n",
       "\t<dt>entropy_ElectronAffinity</dt>\n",
       "\t\t<dd>0.117504058681452</dd>\n",
       "\t<dt>entropy_atomic_mass</dt>\n",
       "\t\t<dd>0.132508236164383</dd>\n",
       "\t<dt>wtd_entropy_FusionHeat</dt>\n",
       "\t\t<dd>0.135762480320951</dd>\n",
       "\t<dt>entropy_FusionHeat</dt>\n",
       "\t\t<dd>0.13924459870687</dd>\n",
       "\t<dt>entropy_atomic_radius</dt>\n",
       "\t\t<dd>0.139635752905791</dd>\n",
       "\t<dt>entropy_fie</dt>\n",
       "\t\t<dd>0.144567483845347</dd>\n",
       "\t<dt>wtd_entropy_Valence</dt>\n",
       "\t\t<dd>0.144722133460058</dd>\n",
       "\t<dt>entropy_Valence</dt>\n",
       "\t\t<dd>0.153522626796146</dd>\n",
       "\t<dt>wtd_entropy_atomic_mass</dt>\n",
       "\t\t<dd>0.16116375920753</dd>\n",
       "\t<dt>wtd_entropy_atomic_radius</dt>\n",
       "\t\t<dd>0.165058080311865</dd>\n",
       "\t<dt>wtd_std_Valence</dt>\n",
       "\t\t<dd>0.209551910807134</dd>\n",
       "\t<dt>std_Valence</dt>\n",
       "\t\t<dd>0.238061155007563</dd>\n",
       "\t<dt>wtd_range_Valence</dt>\n",
       "\t\t<dd>0.965272595098492</dd>\n",
       "\t<dt>mean_Valence</dt>\n",
       "\t\t<dd>1.08815863312219</dd>\n",
       "\t<dt>gmean_Valence</dt>\n",
       "\t\t<dd>1.08876571318103</dd>\n",
       "\t<dt>wtd_gmean_Valence</dt>\n",
       "\t\t<dd>1.3787381242054</dd>\n",
       "\t<dt>wtd_mean_Valence</dt>\n",
       "\t\t<dd>1.42072473786634</dd>\n",
       "\t<dt>range_Valence</dt>\n",
       "\t\t<dd>1.56075950146519</dd>\n",
       "\t<dt>number_of_elements</dt>\n",
       "\t\t<dd>2.05942683216647</dd>\n",
       "\t<dt>wtd_std_FusionHeat</dt>\n",
       "\t\t<dd>52.6763854353453</dd>\n",
       "\t<dt>std_FusionHeat</dt>\n",
       "\t\t<dd>74.2811064931825</dd>\n",
       "\t<dt>gmean_FusionHeat</dt>\n",
       "\t\t<dd>100.4795890965</dd>\n",
       "\t<dt>wtd_range_FusionHeat</dt>\n",
       "\t\t<dd>124.312818299262</dd>\n",
       "\t<dt>mean_FusionHeat</dt>\n",
       "\t\t<dd>126.757060818715</dd>\n",
       "\t<dt>wtd_gmean_FusionHeat</dt>\n",
       "\t\t<dd>168.659871573498</dd>\n",
       "\t<dt>wtd_mean_FusionHeat</dt>\n",
       "\t\t<dd>197.946604573238</dd>\n",
       "\t<dt>wtd_std_atomic_mass</dt>\n",
       "\t\t<dd>395.910398156882</dd>\n",
       "\t<dt>std_atomic_mass</dt>\n",
       "\t\t<dd>399.610439409619</dd>\n",
       "\t<dt>mean_atomic_radius</dt>\n",
       "\t\t<dd>407.656455201558</dd>\n",
       "\t<dt>range_FusionHeat</dt>\n",
       "\t\t<dd>413.106111317539</dd>\n",
       "\t<dt>wtd_std_ElectronAffinity</dt>\n",
       "\t\t<dd>419.819563711776</dd>\n",
       "\t<dt>std_ElectronAffinity</dt>\n",
       "\t\t<dd>478.130429280392</dd>\n",
       "\t<dt>gmean_atomic_radius</dt>\n",
       "\t\t<dd>488.912333810719</dd>\n",
       "\t<dt>std_atomic_radius</dt>\n",
       "\t\t<dd>520.692435809655</dd>\n",
       "\t<dt>wtd_std_atomic_radius</dt>\n",
       "\t\t<dd>637.570794614667</dd>\n",
       "\t<dt>wtd_range_atomic_mass</dt>\n",
       "\t\t<dd>745.555101575614</dd>\n",
       "\t<dt>mean_ElectronAffinity</dt>\n",
       "\t\t<dd>773.070045232141</dd>\n",
       "\t<dt>wtd_range_ElectronAffinity</dt>\n",
       "\t\t<dd>818.298266964417</dd>\n",
       "\t<dt>wtd_mean_atomic_radius</dt>\n",
       "\t\t<dd>822.702591087088</dd>\n",
       "\t<dt>gmean_ElectronAffinity</dt>\n",
       "\t\t<dd>841.31383027126</dd>\n",
       "\t<dt>mean_atomic_mass</dt>\n",
       "\t\t<dd>866.25860404013</dd>\n",
       "\t<dt>gmean_atomic_mass</dt>\n",
       "\t\t<dd>945.203310175208</dd>\n",
       "\t<dt>wtd_gmean_ElectronAffinity</dt>\n",
       "\t\t<dd>1011.17830674756</dd>\n",
       "\t<dt>wtd_mean_ElectronAffinity</dt>\n",
       "\t\t<dd>1052.23557713677</dd>\n",
       "\t<dt>wtd_mean_atomic_mass</dt>\n",
       "\t\t<dd>1111.99858137795</dd>\n",
       "\t<dt>gmean_ThermalConductivity</dt>\n",
       "\t\t<dd>1175.67895565327</dd>\n",
       "\t<dt>critical_temp</dt>\n",
       "\t\t<dd>1180.5888136703</dd>\n",
       "\t<dt>wtd_range_atomic_radius</dt>\n",
       "\t\t<dd>1227.78080444428</dd>\n",
       "\t<dt>wtd_gmean_atomic_radius</dt>\n",
       "\t\t<dd>1276.64203069248</dd>\n",
       "\t<dt>wtd_gmean_atomic_mass</dt>\n",
       "\t\t<dd>1330.40624850333</dd>\n",
       "\t<dt>mean_ThermalConductivity</dt>\n",
       "\t\t<dd>1497.56638234931</dd>\n",
       "\t<dt>wtd_gmean_ThermalConductivity</dt>\n",
       "\t\t<dd>1634.70511075708</dd>\n",
       "\t<dt>wtd_range_ThermalConductivity</dt>\n",
       "\t\t<dd>1852.9982589822</dd>\n",
       "\t<dt>wtd_mean_ThermalConductivity</dt>\n",
       "\t\t<dd>2089.60275348165</dd>\n",
       "\t<dt>range_atomic_mass</dt>\n",
       "\t\t<dd>2964.3753916148</dd>\n",
       "\t<dt>range_ElectronAffinity</dt>\n",
       "\t\t<dd>3484.67705052929</dd>\n",
       "\t<dt>std_ThermalConductivity</dt>\n",
       "\t\t<dd>3617.98815426645</dd>\n",
       "\t<dt>wtd_std_ThermalConductivity</dt>\n",
       "\t\t<dd>4065.11795654355</dd>\n",
       "\t<dt>range_atomic_radius</dt>\n",
       "\t\t<dd>4503.39372104656</dd>\n",
       "\t<dt>gmean_fie</dt>\n",
       "\t\t<dd>6201.40900284013</dd>\n",
       "\t<dt>mean_fie</dt>\n",
       "\t\t<dd>7710.54337195528</dd>\n",
       "\t<dt>std_fie</dt>\n",
       "\t\t<dd>12030.2707616454</dd>\n",
       "\t<dt>wtd_gmean_fie</dt>\n",
       "\t\t<dd>14257.4266696145</dd>\n",
       "\t<dt>wtd_std_fie</dt>\n",
       "\t\t<dd>16299.6347046366</dd>\n",
       "\t<dt>wtd_mean_fie</dt>\n",
       "\t\t<dd>20414.0246171286</dd>\n",
       "\t<dt>range_ThermalConductivity</dt>\n",
       "\t\t<dd>25178.467596974</dd>\n",
       "\t<dt>wtd_range_fie</dt>\n",
       "\t\t<dd>50077.5873184296</dd>\n",
       "\t<dt>range_fie</dt>\n",
       "\t\t<dd>95744.9139191421</dd>\n",
       "\t<dt>wtd_std_Density</dt>\n",
       "\t\t<dd>2596998.26569815</dd>\n",
       "\t<dt>std_Density</dt>\n",
       "\t\t<dd>2813950.42305865</dd>\n",
       "\t<dt>wtd_range_Density</dt>\n",
       "\t\t<dd>5900171.28405423</dd>\n",
       "\t<dt>mean_Density</dt>\n",
       "\t\t<dd>8056845.64493513</dd>\n",
       "\t<dt>wtd_mean_Density</dt>\n",
       "\t\t<dd>10378379.8039803</dd>\n",
       "\t<dt>gmean_Density</dt>\n",
       "\t\t<dd>13633928.0418381</dd>\n",
       "\t<dt>wtd_gmean_Density</dt>\n",
       "\t\t<dd>15759548.0571504</dd>\n",
       "\t<dt>range_Density</dt>\n",
       "\t\t<dd>16815118.9320586</dd>\n",
       "</dl>\n"
      ],
      "text/latex": [
       "\\begin{description*}\n",
       "\\item[wtd\\textbackslash{}\\_entropy\\textbackslash{}\\_ElectronAffinity] 0.0822349739081574\n",
       "\\item[wtd\\textbackslash{}\\_entropy\\textbackslash{}\\_ThermalConductivity] 0.101397300120122\n",
       "\\item[wtd\\textbackslash{}\\_entropy\\textbackslash{}\\_Density] 0.101791838176242\n",
       "\\item[entropy\\textbackslash{}\\_ThermalConductivity] 0.106022450926552\n",
       "\\item[wtd\\textbackslash{}\\_entropy\\textbackslash{}\\_fie] 0.112269605989031\n",
       "\\item[entropy\\textbackslash{}\\_Density] 0.116003662866229\n",
       "\\item[entropy\\textbackslash{}\\_ElectronAffinity] 0.117504058681452\n",
       "\\item[entropy\\textbackslash{}\\_atomic\\textbackslash{}\\_mass] 0.132508236164383\n",
       "\\item[wtd\\textbackslash{}\\_entropy\\textbackslash{}\\_FusionHeat] 0.135762480320951\n",
       "\\item[entropy\\textbackslash{}\\_FusionHeat] 0.13924459870687\n",
       "\\item[entropy\\textbackslash{}\\_atomic\\textbackslash{}\\_radius] 0.139635752905791\n",
       "\\item[entropy\\textbackslash{}\\_fie] 0.144567483845347\n",
       "\\item[wtd\\textbackslash{}\\_entropy\\textbackslash{}\\_Valence] 0.144722133460058\n",
       "\\item[entropy\\textbackslash{}\\_Valence] 0.153522626796146\n",
       "\\item[wtd\\textbackslash{}\\_entropy\\textbackslash{}\\_atomic\\textbackslash{}\\_mass] 0.16116375920753\n",
       "\\item[wtd\\textbackslash{}\\_entropy\\textbackslash{}\\_atomic\\textbackslash{}\\_radius] 0.165058080311865\n",
       "\\item[wtd\\textbackslash{}\\_std\\textbackslash{}\\_Valence] 0.209551910807134\n",
       "\\item[std\\textbackslash{}\\_Valence] 0.238061155007563\n",
       "\\item[wtd\\textbackslash{}\\_range\\textbackslash{}\\_Valence] 0.965272595098492\n",
       "\\item[mean\\textbackslash{}\\_Valence] 1.08815863312219\n",
       "\\item[gmean\\textbackslash{}\\_Valence] 1.08876571318103\n",
       "\\item[wtd\\textbackslash{}\\_gmean\\textbackslash{}\\_Valence] 1.3787381242054\n",
       "\\item[wtd\\textbackslash{}\\_mean\\textbackslash{}\\_Valence] 1.42072473786634\n",
       "\\item[range\\textbackslash{}\\_Valence] 1.56075950146519\n",
       "\\item[number\\textbackslash{}\\_of\\textbackslash{}\\_elements] 2.05942683216647\n",
       "\\item[wtd\\textbackslash{}\\_std\\textbackslash{}\\_FusionHeat] 52.6763854353453\n",
       "\\item[std\\textbackslash{}\\_FusionHeat] 74.2811064931825\n",
       "\\item[gmean\\textbackslash{}\\_FusionHeat] 100.4795890965\n",
       "\\item[wtd\\textbackslash{}\\_range\\textbackslash{}\\_FusionHeat] 124.312818299262\n",
       "\\item[mean\\textbackslash{}\\_FusionHeat] 126.757060818715\n",
       "\\item[wtd\\textbackslash{}\\_gmean\\textbackslash{}\\_FusionHeat] 168.659871573498\n",
       "\\item[wtd\\textbackslash{}\\_mean\\textbackslash{}\\_FusionHeat] 197.946604573238\n",
       "\\item[wtd\\textbackslash{}\\_std\\textbackslash{}\\_atomic\\textbackslash{}\\_mass] 395.910398156882\n",
       "\\item[std\\textbackslash{}\\_atomic\\textbackslash{}\\_mass] 399.610439409619\n",
       "\\item[mean\\textbackslash{}\\_atomic\\textbackslash{}\\_radius] 407.656455201558\n",
       "\\item[range\\textbackslash{}\\_FusionHeat] 413.106111317539\n",
       "\\item[wtd\\textbackslash{}\\_std\\textbackslash{}\\_ElectronAffinity] 419.819563711776\n",
       "\\item[std\\textbackslash{}\\_ElectronAffinity] 478.130429280392\n",
       "\\item[gmean\\textbackslash{}\\_atomic\\textbackslash{}\\_radius] 488.912333810719\n",
       "\\item[std\\textbackslash{}\\_atomic\\textbackslash{}\\_radius] 520.692435809655\n",
       "\\item[wtd\\textbackslash{}\\_std\\textbackslash{}\\_atomic\\textbackslash{}\\_radius] 637.570794614667\n",
       "\\item[wtd\\textbackslash{}\\_range\\textbackslash{}\\_atomic\\textbackslash{}\\_mass] 745.555101575614\n",
       "\\item[mean\\textbackslash{}\\_ElectronAffinity] 773.070045232141\n",
       "\\item[wtd\\textbackslash{}\\_range\\textbackslash{}\\_ElectronAffinity] 818.298266964417\n",
       "\\item[wtd\\textbackslash{}\\_mean\\textbackslash{}\\_atomic\\textbackslash{}\\_radius] 822.702591087088\n",
       "\\item[gmean\\textbackslash{}\\_ElectronAffinity] 841.31383027126\n",
       "\\item[mean\\textbackslash{}\\_atomic\\textbackslash{}\\_mass] 866.25860404013\n",
       "\\item[gmean\\textbackslash{}\\_atomic\\textbackslash{}\\_mass] 945.203310175208\n",
       "\\item[wtd\\textbackslash{}\\_gmean\\textbackslash{}\\_ElectronAffinity] 1011.17830674756\n",
       "\\item[wtd\\textbackslash{}\\_mean\\textbackslash{}\\_ElectronAffinity] 1052.23557713677\n",
       "\\item[wtd\\textbackslash{}\\_mean\\textbackslash{}\\_atomic\\textbackslash{}\\_mass] 1111.99858137795\n",
       "\\item[gmean\\textbackslash{}\\_ThermalConductivity] 1175.67895565327\n",
       "\\item[critical\\textbackslash{}\\_temp] 1180.5888136703\n",
       "\\item[wtd\\textbackslash{}\\_range\\textbackslash{}\\_atomic\\textbackslash{}\\_radius] 1227.78080444428\n",
       "\\item[wtd\\textbackslash{}\\_gmean\\textbackslash{}\\_atomic\\textbackslash{}\\_radius] 1276.64203069248\n",
       "\\item[wtd\\textbackslash{}\\_gmean\\textbackslash{}\\_atomic\\textbackslash{}\\_mass] 1330.40624850333\n",
       "\\item[mean\\textbackslash{}\\_ThermalConductivity] 1497.56638234931\n",
       "\\item[wtd\\textbackslash{}\\_gmean\\textbackslash{}\\_ThermalConductivity] 1634.70511075708\n",
       "\\item[wtd\\textbackslash{}\\_range\\textbackslash{}\\_ThermalConductivity] 1852.9982589822\n",
       "\\item[wtd\\textbackslash{}\\_mean\\textbackslash{}\\_ThermalConductivity] 2089.60275348165\n",
       "\\item[range\\textbackslash{}\\_atomic\\textbackslash{}\\_mass] 2964.3753916148\n",
       "\\item[range\\textbackslash{}\\_ElectronAffinity] 3484.67705052929\n",
       "\\item[std\\textbackslash{}\\_ThermalConductivity] 3617.98815426645\n",
       "\\item[wtd\\textbackslash{}\\_std\\textbackslash{}\\_ThermalConductivity] 4065.11795654355\n",
       "\\item[range\\textbackslash{}\\_atomic\\textbackslash{}\\_radius] 4503.39372104656\n",
       "\\item[gmean\\textbackslash{}\\_fie] 6201.40900284013\n",
       "\\item[mean\\textbackslash{}\\_fie] 7710.54337195528\n",
       "\\item[std\\textbackslash{}\\_fie] 12030.2707616454\n",
       "\\item[wtd\\textbackslash{}\\_gmean\\textbackslash{}\\_fie] 14257.4266696145\n",
       "\\item[wtd\\textbackslash{}\\_std\\textbackslash{}\\_fie] 16299.6347046366\n",
       "\\item[wtd\\textbackslash{}\\_mean\\textbackslash{}\\_fie] 20414.0246171286\n",
       "\\item[range\\textbackslash{}\\_ThermalConductivity] 25178.467596974\n",
       "\\item[wtd\\textbackslash{}\\_range\\textbackslash{}\\_fie] 50077.5873184296\n",
       "\\item[range\\textbackslash{}\\_fie] 95744.9139191421\n",
       "\\item[wtd\\textbackslash{}\\_std\\textbackslash{}\\_Density] 2596998.26569815\n",
       "\\item[std\\textbackslash{}\\_Density] 2813950.42305865\n",
       "\\item[wtd\\textbackslash{}\\_range\\textbackslash{}\\_Density] 5900171.28405423\n",
       "\\item[mean\\textbackslash{}\\_Density] 8056845.64493513\n",
       "\\item[wtd\\textbackslash{}\\_mean\\textbackslash{}\\_Density] 10378379.8039803\n",
       "\\item[gmean\\textbackslash{}\\_Density] 13633928.0418381\n",
       "\\item[wtd\\textbackslash{}\\_gmean\\textbackslash{}\\_Density] 15759548.0571504\n",
       "\\item[range\\textbackslash{}\\_Density] 16815118.9320586\n",
       "\\end{description*}\n"
      ],
      "text/markdown": [
       "wtd_entropy_ElectronAffinity\n",
       ":   0.0822349739081574wtd_entropy_ThermalConductivity\n",
       ":   0.101397300120122wtd_entropy_Density\n",
       ":   0.101791838176242entropy_ThermalConductivity\n",
       ":   0.106022450926552wtd_entropy_fie\n",
       ":   0.112269605989031entropy_Density\n",
       ":   0.116003662866229entropy_ElectronAffinity\n",
       ":   0.117504058681452entropy_atomic_mass\n",
       ":   0.132508236164383wtd_entropy_FusionHeat\n",
       ":   0.135762480320951entropy_FusionHeat\n",
       ":   0.13924459870687entropy_atomic_radius\n",
       ":   0.139635752905791entropy_fie\n",
       ":   0.144567483845347wtd_entropy_Valence\n",
       ":   0.144722133460058entropy_Valence\n",
       ":   0.153522626796146wtd_entropy_atomic_mass\n",
       ":   0.16116375920753wtd_entropy_atomic_radius\n",
       ":   0.165058080311865wtd_std_Valence\n",
       ":   0.209551910807134std_Valence\n",
       ":   0.238061155007563wtd_range_Valence\n",
       ":   0.965272595098492mean_Valence\n",
       ":   1.08815863312219gmean_Valence\n",
       ":   1.08876571318103wtd_gmean_Valence\n",
       ":   1.3787381242054wtd_mean_Valence\n",
       ":   1.42072473786634range_Valence\n",
       ":   1.56075950146519number_of_elements\n",
       ":   2.05942683216647wtd_std_FusionHeat\n",
       ":   52.6763854353453std_FusionHeat\n",
       ":   74.2811064931825gmean_FusionHeat\n",
       ":   100.4795890965wtd_range_FusionHeat\n",
       ":   124.312818299262mean_FusionHeat\n",
       ":   126.757060818715wtd_gmean_FusionHeat\n",
       ":   168.659871573498wtd_mean_FusionHeat\n",
       ":   197.946604573238wtd_std_atomic_mass\n",
       ":   395.910398156882std_atomic_mass\n",
       ":   399.610439409619mean_atomic_radius\n",
       ":   407.656455201558range_FusionHeat\n",
       ":   413.106111317539wtd_std_ElectronAffinity\n",
       ":   419.819563711776std_ElectronAffinity\n",
       ":   478.130429280392gmean_atomic_radius\n",
       ":   488.912333810719std_atomic_radius\n",
       ":   520.692435809655wtd_std_atomic_radius\n",
       ":   637.570794614667wtd_range_atomic_mass\n",
       ":   745.555101575614mean_ElectronAffinity\n",
       ":   773.070045232141wtd_range_ElectronAffinity\n",
       ":   818.298266964417wtd_mean_atomic_radius\n",
       ":   822.702591087088gmean_ElectronAffinity\n",
       ":   841.31383027126mean_atomic_mass\n",
       ":   866.25860404013gmean_atomic_mass\n",
       ":   945.203310175208wtd_gmean_ElectronAffinity\n",
       ":   1011.17830674756wtd_mean_ElectronAffinity\n",
       ":   1052.23557713677wtd_mean_atomic_mass\n",
       ":   1111.99858137795gmean_ThermalConductivity\n",
       ":   1175.67895565327critical_temp\n",
       ":   1180.5888136703wtd_range_atomic_radius\n",
       ":   1227.78080444428wtd_gmean_atomic_radius\n",
       ":   1276.64203069248wtd_gmean_atomic_mass\n",
       ":   1330.40624850333mean_ThermalConductivity\n",
       ":   1497.56638234931wtd_gmean_ThermalConductivity\n",
       ":   1634.70511075708wtd_range_ThermalConductivity\n",
       ":   1852.9982589822wtd_mean_ThermalConductivity\n",
       ":   2089.60275348165range_atomic_mass\n",
       ":   2964.3753916148range_ElectronAffinity\n",
       ":   3484.67705052929std_ThermalConductivity\n",
       ":   3617.98815426645wtd_std_ThermalConductivity\n",
       ":   4065.11795654355range_atomic_radius\n",
       ":   4503.39372104656gmean_fie\n",
       ":   6201.40900284013mean_fie\n",
       ":   7710.54337195528std_fie\n",
       ":   12030.2707616454wtd_gmean_fie\n",
       ":   14257.4266696145wtd_std_fie\n",
       ":   16299.6347046366wtd_mean_fie\n",
       ":   20414.0246171286range_ThermalConductivity\n",
       ":   25178.467596974wtd_range_fie\n",
       ":   50077.5873184296range_fie\n",
       ":   95744.9139191421wtd_std_Density\n",
       ":   2596998.26569815std_Density\n",
       ":   2813950.42305865wtd_range_Density\n",
       ":   5900171.28405423mean_Density\n",
       ":   8056845.64493513wtd_mean_Density\n",
       ":   10378379.8039803gmean_Density\n",
       ":   13633928.0418381wtd_gmean_Density\n",
       ":   15759548.0571504range_Density\n",
       ":   16815118.9320586\n",
       "\n"
      ],
      "text/plain": [
       "   wtd_entropy_ElectronAffinity wtd_entropy_ThermalConductivity \n",
       "                   8.223497e-02                    1.013973e-01 \n",
       "            wtd_entropy_Density     entropy_ThermalConductivity \n",
       "                   1.017918e-01                    1.060225e-01 \n",
       "                wtd_entropy_fie                 entropy_Density \n",
       "                   1.122696e-01                    1.160037e-01 \n",
       "       entropy_ElectronAffinity             entropy_atomic_mass \n",
       "                   1.175041e-01                    1.325082e-01 \n",
       "         wtd_entropy_FusionHeat              entropy_FusionHeat \n",
       "                   1.357625e-01                    1.392446e-01 \n",
       "          entropy_atomic_radius                     entropy_fie \n",
       "                   1.396358e-01                    1.445675e-01 \n",
       "            wtd_entropy_Valence                 entropy_Valence \n",
       "                   1.447221e-01                    1.535226e-01 \n",
       "        wtd_entropy_atomic_mass       wtd_entropy_atomic_radius \n",
       "                   1.611638e-01                    1.650581e-01 \n",
       "                wtd_std_Valence                     std_Valence \n",
       "                   2.095519e-01                    2.380612e-01 \n",
       "              wtd_range_Valence                    mean_Valence \n",
       "                   9.652726e-01                    1.088159e+00 \n",
       "                  gmean_Valence               wtd_gmean_Valence \n",
       "                   1.088766e+00                    1.378738e+00 \n",
       "               wtd_mean_Valence                   range_Valence \n",
       "                   1.420725e+00                    1.560760e+00 \n",
       "             number_of_elements              wtd_std_FusionHeat \n",
       "                   2.059427e+00                    5.267639e+01 \n",
       "                 std_FusionHeat                gmean_FusionHeat \n",
       "                   7.428111e+01                    1.004796e+02 \n",
       "           wtd_range_FusionHeat                 mean_FusionHeat \n",
       "                   1.243128e+02                    1.267571e+02 \n",
       "           wtd_gmean_FusionHeat             wtd_mean_FusionHeat \n",
       "                   1.686599e+02                    1.979466e+02 \n",
       "            wtd_std_atomic_mass                 std_atomic_mass \n",
       "                   3.959104e+02                    3.996104e+02 \n",
       "             mean_atomic_radius                range_FusionHeat \n",
       "                   4.076565e+02                    4.131061e+02 \n",
       "       wtd_std_ElectronAffinity            std_ElectronAffinity \n",
       "                   4.198196e+02                    4.781304e+02 \n",
       "            gmean_atomic_radius               std_atomic_radius \n",
       "                   4.889123e+02                    5.206924e+02 \n",
       "          wtd_std_atomic_radius           wtd_range_atomic_mass \n",
       "                   6.375708e+02                    7.455551e+02 \n",
       "          mean_ElectronAffinity      wtd_range_ElectronAffinity \n",
       "                   7.730700e+02                    8.182983e+02 \n",
       "         wtd_mean_atomic_radius          gmean_ElectronAffinity \n",
       "                   8.227026e+02                    8.413138e+02 \n",
       "               mean_atomic_mass               gmean_atomic_mass \n",
       "                   8.662586e+02                    9.452033e+02 \n",
       "     wtd_gmean_ElectronAffinity       wtd_mean_ElectronAffinity \n",
       "                   1.011178e+03                    1.052236e+03 \n",
       "           wtd_mean_atomic_mass       gmean_ThermalConductivity \n",
       "                   1.111999e+03                    1.175679e+03 \n",
       "                  critical_temp         wtd_range_atomic_radius \n",
       "                   1.180589e+03                    1.227781e+03 \n",
       "        wtd_gmean_atomic_radius           wtd_gmean_atomic_mass \n",
       "                   1.276642e+03                    1.330406e+03 \n",
       "       mean_ThermalConductivity   wtd_gmean_ThermalConductivity \n",
       "                   1.497566e+03                    1.634705e+03 \n",
       "  wtd_range_ThermalConductivity    wtd_mean_ThermalConductivity \n",
       "                   1.852998e+03                    2.089603e+03 \n",
       "              range_atomic_mass          range_ElectronAffinity \n",
       "                   2.964375e+03                    3.484677e+03 \n",
       "        std_ThermalConductivity     wtd_std_ThermalConductivity \n",
       "                   3.617988e+03                    4.065118e+03 \n",
       "            range_atomic_radius                       gmean_fie \n",
       "                   4.503394e+03                    6.201409e+03 \n",
       "                       mean_fie                         std_fie \n",
       "                   7.710543e+03                    1.203027e+04 \n",
       "                  wtd_gmean_fie                     wtd_std_fie \n",
       "                   1.425743e+04                    1.629963e+04 \n",
       "                   wtd_mean_fie       range_ThermalConductivity \n",
       "                   2.041402e+04                    2.517847e+04 \n",
       "                  wtd_range_fie                       range_fie \n",
       "                   5.007759e+04                    9.574491e+04 \n",
       "                wtd_std_Density                     std_Density \n",
       "                   2.596998e+06                    2.813950e+06 \n",
       "              wtd_range_Density                    mean_Density \n",
       "                   5.900171e+06                    8.056846e+06 \n",
       "               wtd_mean_Density                   gmean_Density \n",
       "                   1.037838e+07                    1.363393e+07 \n",
       "              wtd_gmean_Density                   range_Density \n",
       "                   1.575955e+07                    1.681512e+07 "
      ]
     },
     "metadata": {},
     "output_type": "display_data"
    }
   ],
   "source": [
    "# Finding variance for each column\n",
    "colvars <- sort(apply(X = train,2, FUN = var))\n",
    "\n",
    "sort(colvars)"
   ]
  },
  {
   "cell_type": "markdown",
   "metadata": {},
   "source": [
    "Here it can be seen that only one variable has variance less than 0.1 - **wtd_entropy_ElectronAffinity**. This feature will be removed in the next step."
   ]
  },
  {
   "cell_type": "code",
   "execution_count": 20,
   "metadata": {},
   "outputs": [],
   "source": [
    "# Filtering columns where variance is more than 0.1\n",
    "train_11 <- train[colvars > 0.1]"
   ]
  },
  {
   "cell_type": "markdown",
   "metadata": {},
   "source": [
    "Now checking the **correlation** of each feature with the response variable and keeping only the ones which have corelation above 0.5 or less than -0.5. This helps understand which features have a strong linear relationship with the target variable.  "
   ]
  },
  {
   "cell_type": "code",
   "execution_count": 21,
   "metadata": {},
   "outputs": [
    {
     "data": {
      "text/html": [
       "<table>\n",
       "<thead><tr><th scope=col>Var1</th><th scope=col>Var2</th><th scope=col>value</th></tr></thead>\n",
       "<tbody>\n",
       "\t<tr><td>entropy_atomic_mass        </td><td>critical_temp              </td><td> 0.54                      </td></tr>\n",
       "\t<tr><td>wtd_entropy_atomic_mass    </td><td>critical_temp              </td><td> 0.63                      </td></tr>\n",
       "\t<tr><td>entropy_fie                </td><td>critical_temp              </td><td> 0.57                      </td></tr>\n",
       "\t<tr><td>range_fie                  </td><td>critical_temp              </td><td> 0.60                      </td></tr>\n",
       "\t<tr><td>std_fie                    </td><td>critical_temp              </td><td> 0.55                      </td></tr>\n",
       "\t<tr><td>wtd_std_fie                </td><td>critical_temp              </td><td> 0.59                      </td></tr>\n",
       "\t<tr><td>entropy_atomic_radius      </td><td>critical_temp              </td><td> 0.56                      </td></tr>\n",
       "\t<tr><td>wtd_entropy_atomic_radius  </td><td>critical_temp              </td><td> 0.61                      </td></tr>\n",
       "\t<tr><td>range_atomic_radius        </td><td>critical_temp              </td><td> 0.66                      </td></tr>\n",
       "\t<tr><td>std_atomic_radius          </td><td>critical_temp              </td><td> 0.56                      </td></tr>\n",
       "\t<tr><td>wtd_std_atomic_radius      </td><td>critical_temp              </td><td> 0.60                      </td></tr>\n",
       "\t<tr><td>gmean_Density              </td><td>critical_temp              </td><td>-0.54                      </td></tr>\n",
       "\t<tr><td>wtd_gmean_Density          </td><td>critical_temp              </td><td>-0.54                      </td></tr>\n",
       "\t<tr><td>entropy_FusionHeat         </td><td>critical_temp              </td><td> 0.55                      </td></tr>\n",
       "\t<tr><td>wtd_entropy_FusionHeat     </td><td>critical_temp              </td><td> 0.57                      </td></tr>\n",
       "\t<tr><td>range_ThermalConductivity  </td><td>critical_temp              </td><td> 0.69                      </td></tr>\n",
       "\t<tr><td>std_ThermalConductivity    </td><td>critical_temp              </td><td> 0.66                      </td></tr>\n",
       "\t<tr><td>wtd_std_ThermalConductivity</td><td>critical_temp              </td><td> 0.72                      </td></tr>\n",
       "\t<tr><td>mean_Valence               </td><td>critical_temp              </td><td>-0.60                      </td></tr>\n",
       "\t<tr><td>wtd_mean_Valence           </td><td>critical_temp              </td><td>-0.63                      </td></tr>\n",
       "\t<tr><td>gmean_Valence              </td><td>critical_temp              </td><td>-0.58                      </td></tr>\n",
       "\t<tr><td>wtd_gmean_Valence          </td><td>critical_temp              </td><td>-0.62                      </td></tr>\n",
       "\t<tr><td>entropy_Valence            </td><td>critical_temp              </td><td> 0.60                      </td></tr>\n",
       "\t<tr><td>wtd_entropy_Valence        </td><td>critical_temp              </td><td> 0.59                      </td></tr>\n",
       "\t<tr><td>critical_temp              </td><td>critical_temp              </td><td> 1.00                      </td></tr>\n",
       "</tbody>\n",
       "</table>\n"
      ],
      "text/latex": [
       "\\begin{tabular}{r|lll}\n",
       " Var1 & Var2 & value\\\\\n",
       "\\hline\n",
       "\t entropy\\_atomic\\_mass         & critical\\_temp                 &  0.54                          \\\\\n",
       "\t wtd\\_entropy\\_atomic\\_mass     & critical\\_temp                   &  0.63                            \\\\\n",
       "\t entropy\\_fie                 & critical\\_temp               &  0.57                        \\\\\n",
       "\t range\\_fie                   & critical\\_temp               &  0.60                        \\\\\n",
       "\t std\\_fie                     & critical\\_temp               &  0.55                        \\\\\n",
       "\t wtd\\_std\\_fie                 & critical\\_temp                 &  0.59                          \\\\\n",
       "\t entropy\\_atomic\\_radius       & critical\\_temp                 &  0.56                          \\\\\n",
       "\t wtd\\_entropy\\_atomic\\_radius   & critical\\_temp                   &  0.61                            \\\\\n",
       "\t range\\_atomic\\_radius         & critical\\_temp                 &  0.66                          \\\\\n",
       "\t std\\_atomic\\_radius           & critical\\_temp                 &  0.56                          \\\\\n",
       "\t wtd\\_std\\_atomic\\_radius       & critical\\_temp                   &  0.60                            \\\\\n",
       "\t gmean\\_Density               & critical\\_temp               & -0.54                        \\\\\n",
       "\t wtd\\_gmean\\_Density           & critical\\_temp                 & -0.54                          \\\\\n",
       "\t entropy\\_FusionHeat          & critical\\_temp               &  0.55                        \\\\\n",
       "\t wtd\\_entropy\\_FusionHeat      & critical\\_temp                 &  0.57                          \\\\\n",
       "\t range\\_ThermalConductivity   & critical\\_temp               &  0.69                        \\\\\n",
       "\t std\\_ThermalConductivity     & critical\\_temp               &  0.66                        \\\\\n",
       "\t wtd\\_std\\_ThermalConductivity & critical\\_temp                 &  0.72                          \\\\\n",
       "\t mean\\_Valence                & critical\\_temp               & -0.60                        \\\\\n",
       "\t wtd\\_mean\\_Valence            & critical\\_temp                 & -0.63                          \\\\\n",
       "\t gmean\\_Valence               & critical\\_temp               & -0.58                        \\\\\n",
       "\t wtd\\_gmean\\_Valence           & critical\\_temp                 & -0.62                          \\\\\n",
       "\t entropy\\_Valence             & critical\\_temp               &  0.60                        \\\\\n",
       "\t wtd\\_entropy\\_Valence         & critical\\_temp                 &  0.59                          \\\\\n",
       "\t critical\\_temp               & critical\\_temp               &  1.00                        \\\\\n",
       "\\end{tabular}\n"
      ],
      "text/markdown": [
       "\n",
       "| Var1 | Var2 | value |\n",
       "|---|---|---|\n",
       "| entropy_atomic_mass         | critical_temp               |  0.54                       |\n",
       "| wtd_entropy_atomic_mass     | critical_temp               |  0.63                       |\n",
       "| entropy_fie                 | critical_temp               |  0.57                       |\n",
       "| range_fie                   | critical_temp               |  0.60                       |\n",
       "| std_fie                     | critical_temp               |  0.55                       |\n",
       "| wtd_std_fie                 | critical_temp               |  0.59                       |\n",
       "| entropy_atomic_radius       | critical_temp               |  0.56                       |\n",
       "| wtd_entropy_atomic_radius   | critical_temp               |  0.61                       |\n",
       "| range_atomic_radius         | critical_temp               |  0.66                       |\n",
       "| std_atomic_radius           | critical_temp               |  0.56                       |\n",
       "| wtd_std_atomic_radius       | critical_temp               |  0.60                       |\n",
       "| gmean_Density               | critical_temp               | -0.54                       |\n",
       "| wtd_gmean_Density           | critical_temp               | -0.54                       |\n",
       "| entropy_FusionHeat          | critical_temp               |  0.55                       |\n",
       "| wtd_entropy_FusionHeat      | critical_temp               |  0.57                       |\n",
       "| range_ThermalConductivity   | critical_temp               |  0.69                       |\n",
       "| std_ThermalConductivity     | critical_temp               |  0.66                       |\n",
       "| wtd_std_ThermalConductivity | critical_temp               |  0.72                       |\n",
       "| mean_Valence                | critical_temp               | -0.60                       |\n",
       "| wtd_mean_Valence            | critical_temp               | -0.63                       |\n",
       "| gmean_Valence               | critical_temp               | -0.58                       |\n",
       "| wtd_gmean_Valence           | critical_temp               | -0.62                       |\n",
       "| entropy_Valence             | critical_temp               |  0.60                       |\n",
       "| wtd_entropy_Valence         | critical_temp               |  0.59                       |\n",
       "| critical_temp               | critical_temp               |  1.00                       |\n",
       "\n"
      ],
      "text/plain": [
       "   Var1                        Var2          value\n",
       "1  entropy_atomic_mass         critical_temp  0.54\n",
       "2  wtd_entropy_atomic_mass     critical_temp  0.63\n",
       "3  entropy_fie                 critical_temp  0.57\n",
       "4  range_fie                   critical_temp  0.60\n",
       "5  std_fie                     critical_temp  0.55\n",
       "6  wtd_std_fie                 critical_temp  0.59\n",
       "7  entropy_atomic_radius       critical_temp  0.56\n",
       "8  wtd_entropy_atomic_radius   critical_temp  0.61\n",
       "9  range_atomic_radius         critical_temp  0.66\n",
       "10 std_atomic_radius           critical_temp  0.56\n",
       "11 wtd_std_atomic_radius       critical_temp  0.60\n",
       "12 gmean_Density               critical_temp -0.54\n",
       "13 wtd_gmean_Density           critical_temp -0.54\n",
       "14 entropy_FusionHeat          critical_temp  0.55\n",
       "15 wtd_entropy_FusionHeat      critical_temp  0.57\n",
       "16 range_ThermalConductivity   critical_temp  0.69\n",
       "17 std_ThermalConductivity     critical_temp  0.66\n",
       "18 wtd_std_ThermalConductivity critical_temp  0.72\n",
       "19 mean_Valence                critical_temp -0.60\n",
       "20 wtd_mean_Valence            critical_temp -0.63\n",
       "21 gmean_Valence               critical_temp -0.58\n",
       "22 wtd_gmean_Valence           critical_temp -0.62\n",
       "23 entropy_Valence             critical_temp  0.60\n",
       "24 wtd_entropy_Valence         critical_temp  0.59\n",
       "25 critical_temp               critical_temp  1.00"
      ]
     },
     "metadata": {},
     "output_type": "display_data"
    }
   ],
   "source": [
    "# Creating correlation matrix\n",
    "corel <- round(cor(train_11),2)\n",
    "\n",
    "# Using melt to obtain column-wise data\n",
    "melted_corel <- melt(corel) %>% as.data.frame()\n",
    "\n",
    "# priting correlation of variables and critical temp where corelation is >0.5 or <-0.5 \n",
    "(melted_corel <- filter(melted_corel, melted_corel$Var2==\"critical_temp\",abs(value)>0.5))"
   ]
  },
  {
   "cell_type": "markdown",
   "metadata": {},
   "source": [
    "Now , subsetting the train data to include only columns with high corelation as obtained in the previous step. "
   ]
  },
  {
   "cell_type": "code",
   "execution_count": 22,
   "metadata": {},
   "outputs": [
    {
     "data": {
      "text/html": [
       "<ol class=list-inline>\n",
       "\t<li>'entropy_atomic_mass'</li>\n",
       "\t<li>'wtd_entropy_atomic_mass'</li>\n",
       "\t<li>'entropy_fie'</li>\n",
       "\t<li>'range_fie'</li>\n",
       "\t<li>'std_fie'</li>\n",
       "\t<li>'wtd_std_fie'</li>\n",
       "\t<li>'entropy_atomic_radius'</li>\n",
       "\t<li>'wtd_entropy_atomic_radius'</li>\n",
       "\t<li>'range_atomic_radius'</li>\n",
       "\t<li>'std_atomic_radius'</li>\n",
       "\t<li>'wtd_std_atomic_radius'</li>\n",
       "\t<li>'gmean_Density'</li>\n",
       "\t<li>'wtd_gmean_Density'</li>\n",
       "\t<li>'entropy_FusionHeat'</li>\n",
       "\t<li>'wtd_entropy_FusionHeat'</li>\n",
       "\t<li>'range_ThermalConductivity'</li>\n",
       "\t<li>'std_ThermalConductivity'</li>\n",
       "\t<li>'wtd_std_ThermalConductivity'</li>\n",
       "\t<li>'mean_Valence'</li>\n",
       "\t<li>'wtd_mean_Valence'</li>\n",
       "\t<li>'gmean_Valence'</li>\n",
       "\t<li>'wtd_gmean_Valence'</li>\n",
       "\t<li>'entropy_Valence'</li>\n",
       "\t<li>'wtd_entropy_Valence'</li>\n",
       "\t<li>'critical_temp'</li>\n",
       "</ol>\n"
      ],
      "text/latex": [
       "\\begin{enumerate*}\n",
       "\\item 'entropy\\_atomic\\_mass'\n",
       "\\item 'wtd\\_entropy\\_atomic\\_mass'\n",
       "\\item 'entropy\\_fie'\n",
       "\\item 'range\\_fie'\n",
       "\\item 'std\\_fie'\n",
       "\\item 'wtd\\_std\\_fie'\n",
       "\\item 'entropy\\_atomic\\_radius'\n",
       "\\item 'wtd\\_entropy\\_atomic\\_radius'\n",
       "\\item 'range\\_atomic\\_radius'\n",
       "\\item 'std\\_atomic\\_radius'\n",
       "\\item 'wtd\\_std\\_atomic\\_radius'\n",
       "\\item 'gmean\\_Density'\n",
       "\\item 'wtd\\_gmean\\_Density'\n",
       "\\item 'entropy\\_FusionHeat'\n",
       "\\item 'wtd\\_entropy\\_FusionHeat'\n",
       "\\item 'range\\_ThermalConductivity'\n",
       "\\item 'std\\_ThermalConductivity'\n",
       "\\item 'wtd\\_std\\_ThermalConductivity'\n",
       "\\item 'mean\\_Valence'\n",
       "\\item 'wtd\\_mean\\_Valence'\n",
       "\\item 'gmean\\_Valence'\n",
       "\\item 'wtd\\_gmean\\_Valence'\n",
       "\\item 'entropy\\_Valence'\n",
       "\\item 'wtd\\_entropy\\_Valence'\n",
       "\\item 'critical\\_temp'\n",
       "\\end{enumerate*}\n"
      ],
      "text/markdown": [
       "1. 'entropy_atomic_mass'\n",
       "2. 'wtd_entropy_atomic_mass'\n",
       "3. 'entropy_fie'\n",
       "4. 'range_fie'\n",
       "5. 'std_fie'\n",
       "6. 'wtd_std_fie'\n",
       "7. 'entropy_atomic_radius'\n",
       "8. 'wtd_entropy_atomic_radius'\n",
       "9. 'range_atomic_radius'\n",
       "10. 'std_atomic_radius'\n",
       "11. 'wtd_std_atomic_radius'\n",
       "12. 'gmean_Density'\n",
       "13. 'wtd_gmean_Density'\n",
       "14. 'entropy_FusionHeat'\n",
       "15. 'wtd_entropy_FusionHeat'\n",
       "16. 'range_ThermalConductivity'\n",
       "17. 'std_ThermalConductivity'\n",
       "18. 'wtd_std_ThermalConductivity'\n",
       "19. 'mean_Valence'\n",
       "20. 'wtd_mean_Valence'\n",
       "21. 'gmean_Valence'\n",
       "22. 'wtd_gmean_Valence'\n",
       "23. 'entropy_Valence'\n",
       "24. 'wtd_entropy_Valence'\n",
       "25. 'critical_temp'\n",
       "\n",
       "\n"
      ],
      "text/plain": [
       " [1] \"entropy_atomic_mass\"         \"wtd_entropy_atomic_mass\"    \n",
       " [3] \"entropy_fie\"                 \"range_fie\"                  \n",
       " [5] \"std_fie\"                     \"wtd_std_fie\"                \n",
       " [7] \"entropy_atomic_radius\"       \"wtd_entropy_atomic_radius\"  \n",
       " [9] \"range_atomic_radius\"         \"std_atomic_radius\"          \n",
       "[11] \"wtd_std_atomic_radius\"       \"gmean_Density\"              \n",
       "[13] \"wtd_gmean_Density\"           \"entropy_FusionHeat\"         \n",
       "[15] \"wtd_entropy_FusionHeat\"      \"range_ThermalConductivity\"  \n",
       "[17] \"std_ThermalConductivity\"     \"wtd_std_ThermalConductivity\"\n",
       "[19] \"mean_Valence\"                \"wtd_mean_Valence\"           \n",
       "[21] \"gmean_Valence\"               \"wtd_gmean_Valence\"          \n",
       "[23] \"entropy_Valence\"             \"wtd_entropy_Valence\"        \n",
       "[25] \"critical_temp\"              "
      ]
     },
     "metadata": {},
     "output_type": "display_data"
    },
    {
     "data": {
      "text/html": [
       "<ol class=list-inline>\n",
       "\t<li>14884</li>\n",
       "\t<li>25</li>\n",
       "</ol>\n"
      ],
      "text/latex": [
       "\\begin{enumerate*}\n",
       "\\item 14884\n",
       "\\item 25\n",
       "\\end{enumerate*}\n"
      ],
      "text/markdown": [
       "1. 14884\n",
       "2. 25\n",
       "\n",
       "\n"
      ],
      "text/plain": [
       "[1] 14884    25"
      ]
     },
     "metadata": {},
     "output_type": "display_data"
    }
   ],
   "source": [
    "# Filtering train data for columns with high corelation\n",
    "train_12 <- train_11[melted_corel$Var1]\n",
    "# Checking variable names\n",
    "(high_corel_vars <- names(train_12))\n",
    "# Checking the dimentions of the dataset\n",
    "dim(train_12)"
   ]
  },
  {
   "cell_type": "markdown",
   "metadata": {},
   "source": [
    "Here it can be seen that the train data now consists of 25 variables which are highly correlated to the target."
   ]
  },
  {
   "cell_type": "markdown",
   "metadata": {},
   "source": [
    "Now using another technique called `mRMR (minimum Redundancy Maximum Relevance)` to obtain features that are of highest importance.  mRMR uses mutual information to analyze relevance and redundancy. In mRMR, the feature that has the maximum relevance measure and minimum redundancy measure with the already selected features is selected and added to the subset. Obtaining top 20 features as per Mututal information using mRMR."
   ]
  },
  {
   "cell_type": "code",
   "execution_count": 23,
   "metadata": {},
   "outputs": [
    {
     "data": {
      "text/html": [
       "<ol class=list-inline>\n",
       "\t<li>'range_atomic_radius'</li>\n",
       "\t<li>'wtd_range_ThermalConductivity'</li>\n",
       "\t<li>'gmean_ElectronAffinity'</li>\n",
       "\t<li>'wtd_entropy_atomic_mass'</li>\n",
       "\t<li>'gmean_Valence'</li>\n",
       "\t<li>'mean_ThermalConductivity'</li>\n",
       "\t<li>'gmean_FusionHeat'</li>\n",
       "\t<li>'wtd_range_Valence'</li>\n",
       "\t<li>'gmean_Density'</li>\n",
       "\t<li>'wtd_std_ThermalConductivity'</li>\n",
       "\t<li>'std_Density'</li>\n",
       "\t<li>'wtd_mean_Valence'</li>\n",
       "\t<li>'wtd_range_atomic_radius'</li>\n",
       "\t<li>'wtd_range_FusionHeat'</li>\n",
       "\t<li>'std_ElectronAffinity'</li>\n",
       "\t<li>'wtd_entropy_Valence'</li>\n",
       "\t<li>'range_ThermalConductivity'</li>\n",
       "\t<li>'wtd_gmean_ElectronAffinity'</li>\n",
       "\t<li>'mean_Valence'</li>\n",
       "\t<li>'mean_atomic_mass'</li>\n",
       "</ol>\n"
      ],
      "text/latex": [
       "\\begin{enumerate*}\n",
       "\\item 'range\\_atomic\\_radius'\n",
       "\\item 'wtd\\_range\\_ThermalConductivity'\n",
       "\\item 'gmean\\_ElectronAffinity'\n",
       "\\item 'wtd\\_entropy\\_atomic\\_mass'\n",
       "\\item 'gmean\\_Valence'\n",
       "\\item 'mean\\_ThermalConductivity'\n",
       "\\item 'gmean\\_FusionHeat'\n",
       "\\item 'wtd\\_range\\_Valence'\n",
       "\\item 'gmean\\_Density'\n",
       "\\item 'wtd\\_std\\_ThermalConductivity'\n",
       "\\item 'std\\_Density'\n",
       "\\item 'wtd\\_mean\\_Valence'\n",
       "\\item 'wtd\\_range\\_atomic\\_radius'\n",
       "\\item 'wtd\\_range\\_FusionHeat'\n",
       "\\item 'std\\_ElectronAffinity'\n",
       "\\item 'wtd\\_entropy\\_Valence'\n",
       "\\item 'range\\_ThermalConductivity'\n",
       "\\item 'wtd\\_gmean\\_ElectronAffinity'\n",
       "\\item 'mean\\_Valence'\n",
       "\\item 'mean\\_atomic\\_mass'\n",
       "\\end{enumerate*}\n"
      ],
      "text/markdown": [
       "1. 'range_atomic_radius'\n",
       "2. 'wtd_range_ThermalConductivity'\n",
       "3. 'gmean_ElectronAffinity'\n",
       "4. 'wtd_entropy_atomic_mass'\n",
       "5. 'gmean_Valence'\n",
       "6. 'mean_ThermalConductivity'\n",
       "7. 'gmean_FusionHeat'\n",
       "8. 'wtd_range_Valence'\n",
       "9. 'gmean_Density'\n",
       "10. 'wtd_std_ThermalConductivity'\n",
       "11. 'std_Density'\n",
       "12. 'wtd_mean_Valence'\n",
       "13. 'wtd_range_atomic_radius'\n",
       "14. 'wtd_range_FusionHeat'\n",
       "15. 'std_ElectronAffinity'\n",
       "16. 'wtd_entropy_Valence'\n",
       "17. 'range_ThermalConductivity'\n",
       "18. 'wtd_gmean_ElectronAffinity'\n",
       "19. 'mean_Valence'\n",
       "20. 'mean_atomic_mass'\n",
       "\n",
       "\n"
      ],
      "text/plain": [
       " [1] \"range_atomic_radius\"           \"wtd_range_ThermalConductivity\"\n",
       " [3] \"gmean_ElectronAffinity\"        \"wtd_entropy_atomic_mass\"      \n",
       " [5] \"gmean_Valence\"                 \"mean_ThermalConductivity\"     \n",
       " [7] \"gmean_FusionHeat\"              \"wtd_range_Valence\"            \n",
       " [9] \"gmean_Density\"                 \"wtd_std_ThermalConductivity\"  \n",
       "[11] \"std_Density\"                   \"wtd_mean_Valence\"             \n",
       "[13] \"wtd_range_atomic_radius\"       \"wtd_range_FusionHeat\"         \n",
       "[15] \"std_ElectronAffinity\"          \"wtd_entropy_Valence\"          \n",
       "[17] \"range_ThermalConductivity\"     \"wtd_gmean_ElectronAffinity\"   \n",
       "[19] \"mean_Valence\"                  \"mean_atomic_mass\"             "
      ]
     },
     "metadata": {},
     "output_type": "display_data"
    }
   ],
   "source": [
    "# selcting top 20 features with highest gain score\n",
    "(mrmr_vars <- names((MRMR(train[,-82],train[,82],k=20))$score))"
   ]
  },
  {
   "cell_type": "markdown",
   "metadata": {},
   "source": [
    "A list of top 20 features using mRMR is shown above. Combing these features with 25 features obtained previously based on high corelation."
   ]
  },
  {
   "cell_type": "code",
   "execution_count": 24,
   "metadata": {},
   "outputs": [
    {
     "data": {
      "text/html": [
       "<ol class=list-inline>\n",
       "\t<li>'entropy_atomic_mass'</li>\n",
       "\t<li>'wtd_entropy_atomic_mass'</li>\n",
       "\t<li>'entropy_fie'</li>\n",
       "\t<li>'range_fie'</li>\n",
       "\t<li>'std_fie'</li>\n",
       "\t<li>'wtd_std_fie'</li>\n",
       "\t<li>'entropy_atomic_radius'</li>\n",
       "\t<li>'wtd_entropy_atomic_radius'</li>\n",
       "\t<li>'range_atomic_radius'</li>\n",
       "\t<li>'std_atomic_radius'</li>\n",
       "\t<li>'wtd_std_atomic_radius'</li>\n",
       "\t<li>'gmean_Density'</li>\n",
       "\t<li>'wtd_gmean_Density'</li>\n",
       "\t<li>'entropy_FusionHeat'</li>\n",
       "\t<li>'wtd_entropy_FusionHeat'</li>\n",
       "\t<li>'range_ThermalConductivity'</li>\n",
       "\t<li>'std_ThermalConductivity'</li>\n",
       "\t<li>'wtd_std_ThermalConductivity'</li>\n",
       "\t<li>'mean_Valence'</li>\n",
       "\t<li>'wtd_mean_Valence'</li>\n",
       "\t<li>'gmean_Valence'</li>\n",
       "\t<li>'wtd_gmean_Valence'</li>\n",
       "\t<li>'entropy_Valence'</li>\n",
       "\t<li>'wtd_entropy_Valence'</li>\n",
       "\t<li>'critical_temp'</li>\n",
       "\t<li>'wtd_range_ThermalConductivity'</li>\n",
       "\t<li>'gmean_ElectronAffinity'</li>\n",
       "\t<li>'mean_ThermalConductivity'</li>\n",
       "\t<li>'gmean_FusionHeat'</li>\n",
       "\t<li>'wtd_range_Valence'</li>\n",
       "\t<li>'std_Density'</li>\n",
       "\t<li>'wtd_range_atomic_radius'</li>\n",
       "\t<li>'wtd_range_FusionHeat'</li>\n",
       "\t<li>'std_ElectronAffinity'</li>\n",
       "\t<li>'wtd_gmean_ElectronAffinity'</li>\n",
       "\t<li>'mean_atomic_mass'</li>\n",
       "</ol>\n"
      ],
      "text/latex": [
       "\\begin{enumerate*}\n",
       "\\item 'entropy\\_atomic\\_mass'\n",
       "\\item 'wtd\\_entropy\\_atomic\\_mass'\n",
       "\\item 'entropy\\_fie'\n",
       "\\item 'range\\_fie'\n",
       "\\item 'std\\_fie'\n",
       "\\item 'wtd\\_std\\_fie'\n",
       "\\item 'entropy\\_atomic\\_radius'\n",
       "\\item 'wtd\\_entropy\\_atomic\\_radius'\n",
       "\\item 'range\\_atomic\\_radius'\n",
       "\\item 'std\\_atomic\\_radius'\n",
       "\\item 'wtd\\_std\\_atomic\\_radius'\n",
       "\\item 'gmean\\_Density'\n",
       "\\item 'wtd\\_gmean\\_Density'\n",
       "\\item 'entropy\\_FusionHeat'\n",
       "\\item 'wtd\\_entropy\\_FusionHeat'\n",
       "\\item 'range\\_ThermalConductivity'\n",
       "\\item 'std\\_ThermalConductivity'\n",
       "\\item 'wtd\\_std\\_ThermalConductivity'\n",
       "\\item 'mean\\_Valence'\n",
       "\\item 'wtd\\_mean\\_Valence'\n",
       "\\item 'gmean\\_Valence'\n",
       "\\item 'wtd\\_gmean\\_Valence'\n",
       "\\item 'entropy\\_Valence'\n",
       "\\item 'wtd\\_entropy\\_Valence'\n",
       "\\item 'critical\\_temp'\n",
       "\\item 'wtd\\_range\\_ThermalConductivity'\n",
       "\\item 'gmean\\_ElectronAffinity'\n",
       "\\item 'mean\\_ThermalConductivity'\n",
       "\\item 'gmean\\_FusionHeat'\n",
       "\\item 'wtd\\_range\\_Valence'\n",
       "\\item 'std\\_Density'\n",
       "\\item 'wtd\\_range\\_atomic\\_radius'\n",
       "\\item 'wtd\\_range\\_FusionHeat'\n",
       "\\item 'std\\_ElectronAffinity'\n",
       "\\item 'wtd\\_gmean\\_ElectronAffinity'\n",
       "\\item 'mean\\_atomic\\_mass'\n",
       "\\end{enumerate*}\n"
      ],
      "text/markdown": [
       "1. 'entropy_atomic_mass'\n",
       "2. 'wtd_entropy_atomic_mass'\n",
       "3. 'entropy_fie'\n",
       "4. 'range_fie'\n",
       "5. 'std_fie'\n",
       "6. 'wtd_std_fie'\n",
       "7. 'entropy_atomic_radius'\n",
       "8. 'wtd_entropy_atomic_radius'\n",
       "9. 'range_atomic_radius'\n",
       "10. 'std_atomic_radius'\n",
       "11. 'wtd_std_atomic_radius'\n",
       "12. 'gmean_Density'\n",
       "13. 'wtd_gmean_Density'\n",
       "14. 'entropy_FusionHeat'\n",
       "15. 'wtd_entropy_FusionHeat'\n",
       "16. 'range_ThermalConductivity'\n",
       "17. 'std_ThermalConductivity'\n",
       "18. 'wtd_std_ThermalConductivity'\n",
       "19. 'mean_Valence'\n",
       "20. 'wtd_mean_Valence'\n",
       "21. 'gmean_Valence'\n",
       "22. 'wtd_gmean_Valence'\n",
       "23. 'entropy_Valence'\n",
       "24. 'wtd_entropy_Valence'\n",
       "25. 'critical_temp'\n",
       "26. 'wtd_range_ThermalConductivity'\n",
       "27. 'gmean_ElectronAffinity'\n",
       "28. 'mean_ThermalConductivity'\n",
       "29. 'gmean_FusionHeat'\n",
       "30. 'wtd_range_Valence'\n",
       "31. 'std_Density'\n",
       "32. 'wtd_range_atomic_radius'\n",
       "33. 'wtd_range_FusionHeat'\n",
       "34. 'std_ElectronAffinity'\n",
       "35. 'wtd_gmean_ElectronAffinity'\n",
       "36. 'mean_atomic_mass'\n",
       "\n",
       "\n"
      ],
      "text/plain": [
       " [1] \"entropy_atomic_mass\"           \"wtd_entropy_atomic_mass\"      \n",
       " [3] \"entropy_fie\"                   \"range_fie\"                    \n",
       " [5] \"std_fie\"                       \"wtd_std_fie\"                  \n",
       " [7] \"entropy_atomic_radius\"         \"wtd_entropy_atomic_radius\"    \n",
       " [9] \"range_atomic_radius\"           \"std_atomic_radius\"            \n",
       "[11] \"wtd_std_atomic_radius\"         \"gmean_Density\"                \n",
       "[13] \"wtd_gmean_Density\"             \"entropy_FusionHeat\"           \n",
       "[15] \"wtd_entropy_FusionHeat\"        \"range_ThermalConductivity\"    \n",
       "[17] \"std_ThermalConductivity\"       \"wtd_std_ThermalConductivity\"  \n",
       "[19] \"mean_Valence\"                  \"wtd_mean_Valence\"             \n",
       "[21] \"gmean_Valence\"                 \"wtd_gmean_Valence\"            \n",
       "[23] \"entropy_Valence\"               \"wtd_entropy_Valence\"          \n",
       "[25] \"critical_temp\"                 \"wtd_range_ThermalConductivity\"\n",
       "[27] \"gmean_ElectronAffinity\"        \"mean_ThermalConductivity\"     \n",
       "[29] \"gmean_FusionHeat\"              \"wtd_range_Valence\"            \n",
       "[31] \"std_Density\"                   \"wtd_range_atomic_radius\"      \n",
       "[33] \"wtd_range_FusionHeat\"          \"std_ElectronAffinity\"         \n",
       "[35] \"wtd_gmean_ElectronAffinity\"    \"mean_atomic_mass\"             "
      ]
     },
     "metadata": {},
     "output_type": "display_data"
    }
   ],
   "source": [
    "# finding a union of highly correlated variables and mRMR variables\n",
    "(model_1_features = union(high_corel_vars,mrmr_vars))"
   ]
  },
  {
   "cell_type": "code",
   "execution_count": 25,
   "metadata": {},
   "outputs": [
    {
     "data": {
      "text/html": [
       "36"
      ],
      "text/latex": [
       "36"
      ],
      "text/markdown": [
       "36"
      ],
      "text/plain": [
       "[1] 36"
      ]
     },
     "metadata": {},
     "output_type": "display_data"
    }
   ],
   "source": [
    "# Checking number of selected vars\n",
    "length(model_1_features)"
   ]
  },
  {
   "cell_type": "markdown",
   "metadata": {},
   "source": [
    "After combing features that have high corelation and the top 20 selected by mRMR, we get 36 features in total as shown above. These features will be used to create a model using training data. "
   ]
  },
  {
   "cell_type": "code",
   "execution_count": 26,
   "metadata": {},
   "outputs": [],
   "source": [
    "# creating a model with features selected above\n",
    "fit1_model_1 <- lm(critical_temp~.,data=train[model_1_features])"
   ]
  },
  {
   "cell_type": "code",
   "execution_count": 27,
   "metadata": {},
   "outputs": [
    {
     "data": {
      "text/plain": [
       "\n",
       "Call:\n",
       "lm(formula = critical_temp ~ ., data = train[model_1_features])\n",
       "\n",
       "Residuals:\n",
       "    Min      1Q  Median      3Q     Max \n",
       "-77.836 -11.820   0.261  12.285 204.903 \n",
       "\n",
       "Coefficients:\n",
       "                                Estimate Std. Error t value Pr(>|t|)    \n",
       "(Intercept)                    1.313e+01  2.137e+00   6.141 8.41e-10 ***\n",
       "entropy_atomic_mass           -5.026e+01  2.938e+00 -17.109  < 2e-16 ***\n",
       "wtd_entropy_atomic_mass        3.669e+01  2.255e+00  16.270  < 2e-16 ***\n",
       "entropy_fie                    1.235e+02  1.743e+01   7.084 1.46e-12 ***\n",
       "range_fie                      4.523e-02  6.547e-03   6.909 5.10e-12 ***\n",
       "std_fie                       -1.480e-02  1.856e-02  -0.798 0.425126    \n",
       "wtd_std_fie                   -8.681e-02  1.000e-02  -8.678  < 2e-16 ***\n",
       "entropy_atomic_radius         -7.558e+01  1.554e+01  -4.865 1.16e-06 ***\n",
       "wtd_entropy_atomic_radius      2.356e+01  4.557e+00   5.171 2.36e-07 ***\n",
       "range_atomic_radius            5.095e-01  2.589e-02  19.679  < 2e-16 ***\n",
       "std_atomic_radius             -1.302e+00  7.279e-02 -17.885  < 2e-16 ***\n",
       "wtd_std_atomic_radius          2.720e-01  4.623e-02   5.884 4.10e-09 ***\n",
       "gmean_Density                 -3.564e-03  2.268e-04 -15.716  < 2e-16 ***\n",
       "wtd_gmean_Density              2.376e-03  1.992e-04  11.927  < 2e-16 ***\n",
       "entropy_FusionHeat             4.364e+00  2.089e+00   2.089 0.036742 *  \n",
       "wtd_entropy_FusionHeat         1.168e+01  1.716e+00   6.811 1.01e-11 ***\n",
       "range_ThermalConductivity     -2.857e-02  1.353e-02  -2.111 0.034777 *  \n",
       "std_ThermalConductivity       -1.315e-01  2.965e-02  -4.434 9.31e-06 ***\n",
       "wtd_std_ThermalConductivity    3.758e-01  1.414e-02  26.571  < 2e-16 ***\n",
       "mean_Valence                  -1.164e+01  4.548e+00  -2.559 0.010519 *  \n",
       "wtd_mean_Valence              -4.470e+01  3.344e+00 -13.369  < 2e-16 ***\n",
       "gmean_Valence                  1.441e+01  4.535e+00   3.178 0.001484 ** \n",
       "wtd_gmean_Valence              4.309e+01  3.381e+00  12.746  < 2e-16 ***\n",
       "entropy_Valence               -4.511e+01  1.284e+01  -3.513 0.000445 ***\n",
       "wtd_entropy_Valence           -4.075e+01  3.481e+00 -11.706  < 2e-16 ***\n",
       "wtd_range_ThermalConductivity -6.004e-03  8.441e-03  -0.711 0.476945    \n",
       "gmean_ElectronAffinity         5.671e-02  1.451e-02   3.908 9.35e-05 ***\n",
       "mean_ThermalConductivity       8.021e-02  8.634e-03   9.291  < 2e-16 ***\n",
       "gmean_FusionHeat              -1.879e-01  3.400e-02  -5.528 3.29e-08 ***\n",
       "wtd_range_Valence              3.743e+00  5.623e-01   6.657 2.89e-11 ***\n",
       "std_Density                   -7.564e-04  1.454e-04  -5.203 1.99e-07 ***\n",
       "wtd_range_atomic_radius        2.884e-02  1.465e-02   1.969 0.049014 *  \n",
       "wtd_range_FusionHeat          -4.066e-02  2.704e-02  -1.504 0.132687    \n",
       "std_ElectronAffinity           1.009e-01  1.076e-02   9.375  < 2e-16 ***\n",
       "wtd_gmean_ElectronAffinity    -2.387e-01  1.365e-02 -17.482  < 2e-16 ***\n",
       "mean_atomic_mass               6.765e-02  1.150e-02   5.884 4.09e-09 ***\n",
       "---\n",
       "Signif. codes:  0 '***' 0.001 '**' 0.01 '*' 0.05 '.' 0.1 ' ' 1\n",
       "\n",
       "Residual standard error: 19.58 on 14848 degrees of freedom\n",
       "Multiple R-squared:  0.6762,\tAdjusted R-squared:  0.6754 \n",
       "F-statistic: 885.9 on 35 and 14848 DF,  p-value: < 2.2e-16\n"
      ]
     },
     "metadata": {},
     "output_type": "display_data"
    }
   ],
   "source": [
    "# checking summary of model 1\n",
    "summary(fit1_model_1)"
   ]
  },
  {
   "cell_type": "markdown",
   "metadata": {},
   "source": [
    "Here we can see that almost all of the variable have high significance, except for a few. Using `stepwise selection as a wrapper method` on the model produced in the above step to find best possible model based on lowest AIC values. Step traverses through many subsets of features and adds(forward) or removes(backward) the feature based on changes in AIC value. A combination of forward and backward approach can be obtained using direction=both."
   ]
  },
  {
   "cell_type": "code",
   "execution_count": 28,
   "metadata": {},
   "outputs": [
    {
     "name": "stdout",
     "output_type": "stream",
     "text": [
      "Start:  AIC=88573.95\n",
      "critical_temp ~ entropy_atomic_mass + wtd_entropy_atomic_mass + \n",
      "    entropy_fie + range_fie + std_fie + wtd_std_fie + entropy_atomic_radius + \n",
      "    wtd_entropy_atomic_radius + range_atomic_radius + std_atomic_radius + \n",
      "    wtd_std_atomic_radius + gmean_Density + wtd_gmean_Density + \n",
      "    entropy_FusionHeat + wtd_entropy_FusionHeat + range_ThermalConductivity + \n",
      "    std_ThermalConductivity + wtd_std_ThermalConductivity + mean_Valence + \n",
      "    wtd_mean_Valence + gmean_Valence + wtd_gmean_Valence + entropy_Valence + \n",
      "    wtd_entropy_Valence + wtd_range_ThermalConductivity + gmean_ElectronAffinity + \n",
      "    mean_ThermalConductivity + gmean_FusionHeat + wtd_range_Valence + \n",
      "    std_Density + wtd_range_atomic_radius + wtd_range_FusionHeat + \n",
      "    std_ElectronAffinity + wtd_gmean_ElectronAffinity + mean_atomic_mass\n",
      "\n",
      "                                Df Sum of Sq     RSS   AIC\n",
      "- wtd_range_ThermalConductivity  1       194 5689821 88572\n",
      "- std_fie                        1       244 5689871 88573\n",
      "<none>                                       5689627 88574\n",
      "- wtd_range_FusionHeat           1       866 5690493 88574\n",
      "- wtd_range_atomic_radius        1      1485 5691112 88576\n",
      "- entropy_FusionHeat             1      1672 5691299 88576\n",
      "- range_ThermalConductivity      1      1708 5691335 88576\n",
      "- mean_Valence                   1      2509 5692136 88579\n",
      "- gmean_Valence                  1      3871 5693498 88582\n",
      "- entropy_Valence                1      4728 5694355 88584\n",
      "- gmean_ElectronAffinity         1      5852 5695479 88587\n",
      "- std_ThermalConductivity        1      7534 5697161 88592\n",
      "- entropy_atomic_radius          1      9068 5698695 88596\n",
      "- wtd_entropy_atomic_radius      1     10245 5699872 88599\n",
      "- std_Density                    1     10373 5700000 88599\n",
      "- gmean_FusionHeat               1     11710 5701337 88603\n",
      "- wtd_std_atomic_radius          1     13265 5702892 88607\n",
      "- mean_atomic_mass               1     13267 5702894 88607\n",
      "- wtd_range_Valence              1     16982 5706609 88616\n",
      "- wtd_entropy_FusionHeat         1     17775 5707402 88618\n",
      "- range_fie                      1     18289 5707916 88620\n",
      "- entropy_fie                    1     19229 5708856 88622\n",
      "- wtd_std_fie                    1     28856 5718483 88647\n",
      "- mean_ThermalConductivity       1     33075 5722702 88658\n",
      "- std_ElectronAffinity           1     33678 5723305 88660\n",
      "- wtd_entropy_Valence            1     52510 5742137 88709\n",
      "- wtd_gmean_Density              1     54506 5744133 88714\n",
      "- wtd_gmean_Valence              1     62249 5751876 88734\n",
      "- wtd_mean_Valence               1     68488 5758115 88750\n",
      "- gmean_Density                  1     94640 5784267 88817\n",
      "- wtd_entropy_atomic_mass        1    101432 5791059 88835\n",
      "- entropy_atomic_mass            1    112162 5801789 88863\n",
      "- wtd_gmean_ElectronAffinity     1    117111 5806738 88875\n",
      "- std_atomic_radius              1    122576 5812203 88889\n",
      "- range_atomic_radius            1    148402 5838029 88955\n",
      "- wtd_std_ThermalConductivity    1    270530 5960157 89263\n",
      "\n",
      "Step:  AIC=88572.46\n",
      "critical_temp ~ entropy_atomic_mass + wtd_entropy_atomic_mass + \n",
      "    entropy_fie + range_fie + std_fie + wtd_std_fie + entropy_atomic_radius + \n",
      "    wtd_entropy_atomic_radius + range_atomic_radius + std_atomic_radius + \n",
      "    wtd_std_atomic_radius + gmean_Density + wtd_gmean_Density + \n",
      "    entropy_FusionHeat + wtd_entropy_FusionHeat + range_ThermalConductivity + \n",
      "    std_ThermalConductivity + wtd_std_ThermalConductivity + mean_Valence + \n",
      "    wtd_mean_Valence + gmean_Valence + wtd_gmean_Valence + entropy_Valence + \n",
      "    wtd_entropy_Valence + gmean_ElectronAffinity + mean_ThermalConductivity + \n",
      "    gmean_FusionHeat + wtd_range_Valence + std_Density + wtd_range_atomic_radius + \n",
      "    wtd_range_FusionHeat + std_ElectronAffinity + wtd_gmean_ElectronAffinity + \n",
      "    mean_atomic_mass\n",
      "\n",
      "                                Df Sum of Sq     RSS   AIC\n",
      "- std_fie                        1       264 5690084 88571\n",
      "<none>                                       5689821 88572\n",
      "- wtd_range_FusionHeat           1      1065 5690886 88573\n",
      "+ wtd_range_ThermalConductivity  1       194 5689627 88574\n",
      "- entropy_FusionHeat             1      1556 5691376 88575\n",
      "- range_ThermalConductivity      1      1571 5691392 88575\n",
      "- wtd_range_atomic_radius        1      1612 5691433 88575\n",
      "- mean_Valence                   1      2497 5692318 88577\n",
      "- gmean_Valence                  1      3819 5693640 88580\n",
      "- entropy_Valence                1      4652 5694473 88583\n",
      "- gmean_ElectronAffinity         1      6738 5696559 88588\n",
      "- std_ThermalConductivity        1      7713 5697534 88591\n",
      "- entropy_atomic_radius          1      9625 5699445 88596\n",
      "- std_Density                    1     10414 5700235 88598\n",
      "- gmean_FusionHeat               1     11521 5701341 88601\n",
      "- wtd_entropy_atomic_radius      1     12574 5702395 88603\n",
      "- mean_atomic_mass               1     13419 5703240 88606\n",
      "- wtd_std_atomic_radius          1     13584 5703405 88606\n",
      "- wtd_range_Valence              1     16792 5706613 88614\n",
      "- wtd_entropy_FusionHeat         1     18167 5707988 88618\n",
      "- range_fie                      1     18207 5708028 88618\n",
      "- entropy_fie                    1     19548 5709369 88622\n",
      "- wtd_std_fie                    1     28701 5718522 88645\n",
      "- mean_ThermalConductivity       1     33527 5723348 88658\n",
      "- std_ElectronAffinity           1     33854 5723674 88659\n",
      "- wtd_entropy_Valence            1     57168 5746989 88719\n",
      "- wtd_gmean_Density              1     59259 5749080 88725\n",
      "- wtd_gmean_Valence              1     63278 5753098 88735\n",
      "- wtd_mean_Valence               1     68828 5758649 88749\n",
      "- gmean_Density                  1     96100 5785921 88820\n",
      "- wtd_entropy_atomic_mass        1    106195 5796016 88846\n",
      "- entropy_atomic_mass            1    114590 5804411 88867\n",
      "- std_atomic_radius              1    124131 5813952 88892\n",
      "- wtd_gmean_ElectronAffinity     1    133373 5823194 88915\n",
      "- range_atomic_radius            1    148300 5838121 88953\n",
      "- wtd_std_ThermalConductivity    1    346364 6036185 89450\n",
      "\n",
      "Step:  AIC=88571.14\n",
      "critical_temp ~ entropy_atomic_mass + wtd_entropy_atomic_mass + \n",
      "    entropy_fie + range_fie + wtd_std_fie + entropy_atomic_radius + \n",
      "    wtd_entropy_atomic_radius + range_atomic_radius + std_atomic_radius + \n",
      "    wtd_std_atomic_radius + gmean_Density + wtd_gmean_Density + \n",
      "    entropy_FusionHeat + wtd_entropy_FusionHeat + range_ThermalConductivity + \n",
      "    std_ThermalConductivity + wtd_std_ThermalConductivity + mean_Valence + \n",
      "    wtd_mean_Valence + gmean_Valence + wtd_gmean_Valence + entropy_Valence + \n",
      "    wtd_entropy_Valence + gmean_ElectronAffinity + mean_ThermalConductivity + \n",
      "    gmean_FusionHeat + wtd_range_Valence + std_Density + wtd_range_atomic_radius + \n",
      "    wtd_range_FusionHeat + std_ElectronAffinity + wtd_gmean_ElectronAffinity + \n",
      "    mean_atomic_mass\n",
      "\n",
      "                                Df Sum of Sq     RSS   AIC\n",
      "<none>                                       5690084 88571\n",
      "- wtd_range_FusionHeat           1      1228 5691313 88572\n",
      "+ std_fie                        1       264 5689821 88572\n",
      "+ wtd_range_ThermalConductivity  1       214 5689871 88573\n",
      "- range_ThermalConductivity      1      1461 5691545 88573\n",
      "- wtd_range_atomic_radius        1      1618 5691702 88573\n",
      "- entropy_FusionHeat             1      1994 5692079 88574\n",
      "- mean_Valence                   1      2520 5692604 88576\n",
      "- gmean_Valence                  1      3885 5693969 88579\n",
      "- entropy_Valence                1      5061 5695145 88582\n",
      "- gmean_ElectronAffinity         1      6735 5696819 88587\n",
      "- std_ThermalConductivity        1      8291 5698376 88591\n",
      "- entropy_atomic_radius          1     10702 5700786 88597\n",
      "- std_Density                    1     11406 5701490 88599\n",
      "- gmean_FusionHeat               1     11409 5701494 88599\n",
      "- wtd_entropy_atomic_radius      1     12970 5703055 88603\n",
      "- mean_atomic_mass               1     13528 5703613 88604\n",
      "- wtd_range_Valence              1     16673 5706758 88613\n",
      "- wtd_std_atomic_radius          1     17033 5707118 88614\n",
      "- wtd_entropy_FusionHeat         1     18296 5708380 88617\n",
      "- entropy_fie                    1     22512 5712597 88628\n",
      "- mean_ThermalConductivity       1     33624 5723708 88657\n",
      "- std_ElectronAffinity           1     33684 5723769 88657\n",
      "- wtd_std_fie                    1     39266 5729350 88672\n",
      "- range_fie                      1     54303 5744388 88711\n",
      "- wtd_entropy_Valence            1     58938 5749022 88723\n",
      "- wtd_gmean_Density              1     59036 5749121 88723\n",
      "- wtd_gmean_Valence              1     64910 5754994 88738\n",
      "- wtd_mean_Valence               1     70950 5761034 88754\n",
      "- gmean_Density                  1     96098 5786182 88818\n",
      "- wtd_entropy_atomic_mass        1    106161 5796245 88844\n",
      "- entropy_atomic_mass            1    115026 5805110 88867\n",
      "- wtd_gmean_ElectronAffinity     1    133113 5823198 88913\n",
      "- range_atomic_radius            1    197961 5888045 89078\n",
      "- std_atomic_radius              1    222396 5912480 89140\n",
      "- wtd_std_ThermalConductivity    1    347237 6037322 89451\n"
     ]
    }
   ],
   "source": [
    "fit2_model_1 <- step(fit1_model_1, direction = 'both', trace = T)"
   ]
  },
  {
   "cell_type": "code",
   "execution_count": 29,
   "metadata": {},
   "outputs": [
    {
     "data": {
      "text/plain": [
       "\n",
       "Call:\n",
       "lm(formula = critical_temp ~ entropy_atomic_mass + wtd_entropy_atomic_mass + \n",
       "    entropy_fie + range_fie + wtd_std_fie + entropy_atomic_radius + \n",
       "    wtd_entropy_atomic_radius + range_atomic_radius + std_atomic_radius + \n",
       "    wtd_std_atomic_radius + gmean_Density + wtd_gmean_Density + \n",
       "    entropy_FusionHeat + wtd_entropy_FusionHeat + range_ThermalConductivity + \n",
       "    std_ThermalConductivity + wtd_std_ThermalConductivity + mean_Valence + \n",
       "    wtd_mean_Valence + gmean_Valence + wtd_gmean_Valence + entropy_Valence + \n",
       "    wtd_entropy_Valence + gmean_ElectronAffinity + mean_ThermalConductivity + \n",
       "    gmean_FusionHeat + wtd_range_Valence + std_Density + wtd_range_atomic_radius + \n",
       "    wtd_range_FusionHeat + std_ElectronAffinity + wtd_gmean_ElectronAffinity + \n",
       "    mean_atomic_mass, data = train[model_1_features])\n",
       "\n",
       "Residuals:\n",
       "    Min      1Q  Median      3Q     Max \n",
       "-78.008 -11.798   0.273  12.328 204.563 \n",
       "\n",
       "Coefficients:\n",
       "                              Estimate Std. Error t value Pr(>|t|)    \n",
       "(Intercept)                  1.284e+01  2.116e+00   6.068 1.33e-09 ***\n",
       "entropy_atomic_mass         -4.993e+01  2.882e+00 -17.326  < 2e-16 ***\n",
       "wtd_entropy_atomic_mass      3.627e+01  2.179e+00  16.645  < 2e-16 ***\n",
       "entropy_fie                  1.282e+02  1.673e+01   7.665 1.90e-14 ***\n",
       "range_fie                    4.048e-02  3.400e-03  11.905  < 2e-16 ***\n",
       "wtd_std_fie                 -8.969e-02  8.860e-03 -10.123  < 2e-16 ***\n",
       "entropy_atomic_radius       -7.967e+01  1.507e+01  -5.285 1.28e-07 ***\n",
       "wtd_entropy_atomic_radius    2.493e+01  4.285e+00   5.818 6.07e-09 ***\n",
       "range_atomic_radius          5.194e-01  2.285e-02  22.730  < 2e-16 ***\n",
       "std_atomic_radius           -1.344e+00  5.581e-02 -24.092  < 2e-16 ***\n",
       "wtd_std_atomic_radius        2.879e-01  4.318e-02   6.667 2.70e-11 ***\n",
       "gmean_Density               -3.536e-03  2.233e-04 -15.837  < 2e-16 ***\n",
       "wtd_gmean_Density            2.321e-03  1.870e-04  12.413  < 2e-16 ***\n",
       "entropy_FusionHeat           4.589e+00  2.011e+00   2.281  0.02254 *  \n",
       "wtd_entropy_FusionHeat       1.182e+01  1.710e+00   6.910 5.04e-12 ***\n",
       "range_ThermalConductivity   -2.597e-02  1.330e-02  -1.953  0.05089 .  \n",
       "std_ThermalConductivity     -1.363e-01  2.930e-02  -4.652 3.32e-06 ***\n",
       "wtd_std_ThermalConductivity  3.712e-01  1.233e-02  30.103  < 2e-16 ***\n",
       "mean_Valence                -1.166e+01  4.547e+00  -2.564  0.01035 *  \n",
       "wtd_mean_Valence            -4.512e+01  3.316e+00 -13.608  < 2e-16 ***\n",
       "gmean_Valence                1.442e+01  4.530e+00   3.184  0.00145 ** \n",
       "wtd_gmean_Valence            4.359e+01  3.349e+00  13.015  < 2e-16 ***\n",
       "entropy_Valence             -4.617e+01  1.270e+01  -3.634  0.00028 ***\n",
       "wtd_entropy_Valence         -4.166e+01  3.359e+00 -12.402  < 2e-16 ***\n",
       "gmean_ElectronAffinity       5.913e-02  1.410e-02   4.192 2.78e-05 ***\n",
       "mean_ThermalConductivity     7.901e-02  8.434e-03   9.368  < 2e-16 ***\n",
       "gmean_FusionHeat            -1.833e-01  3.360e-02  -5.457 4.93e-08 ***\n",
       "wtd_range_Valence            3.691e+00  5.596e-01   6.597 4.35e-11 ***\n",
       "std_Density                 -7.798e-04  1.429e-04  -5.456 4.95e-08 ***\n",
       "wtd_range_atomic_radius      2.995e-02  1.457e-02   2.055  0.03990 *  \n",
       "wtd_range_FusionHeat        -4.714e-02  2.633e-02  -1.790  0.07341 .  \n",
       "std_ElectronAffinity         1.008e-01  1.075e-02   9.376  < 2e-16 ***\n",
       "wtd_gmean_ElectronAffinity  -2.413e-01  1.295e-02 -18.639  < 2e-16 ***\n",
       "mean_atomic_mass             6.823e-02  1.148e-02   5.942 2.88e-09 ***\n",
       "---\n",
       "Signif. codes:  0 '***' 0.001 '**' 0.01 '*' 0.05 '.' 0.1 ' ' 1\n",
       "\n",
       "Residual standard error: 19.57 on 14850 degrees of freedom\n",
       "Multiple R-squared:  0.6762,\tAdjusted R-squared:  0.6754 \n",
       "F-statistic: 939.6 on 33 and 14850 DF,  p-value: < 2.2e-16\n"
      ]
     },
     "metadata": {},
     "output_type": "display_data"
    }
   ],
   "source": [
    "summary(fit2_model_1)"
   ]
  },
  {
   "cell_type": "markdown",
   "metadata": {},
   "source": [
    "Now it can be seen that all selected variables are significant in the model selected by step. The F-Statistic of the model is 939.6 with p-value < 2.2e-16 which is very less and can reject the null hypothesis that the model is not useful. Evaluating this model on test set. Before that storing feature names selected by step for future use. "
   ]
  },
  {
   "cell_type": "code",
   "execution_count": 30,
   "metadata": {},
   "outputs": [
    {
     "data": {
      "text/html": [
       "<ol class=list-inline>\n",
       "\t<li>'entropy_atomic_mass'</li>\n",
       "\t<li>'wtd_entropy_atomic_mass'</li>\n",
       "\t<li>'entropy_fie'</li>\n",
       "\t<li>'range_fie'</li>\n",
       "\t<li>'wtd_std_fie'</li>\n",
       "\t<li>'entropy_atomic_radius'</li>\n",
       "\t<li>'wtd_entropy_atomic_radius'</li>\n",
       "\t<li>'range_atomic_radius'</li>\n",
       "\t<li>'std_atomic_radius'</li>\n",
       "\t<li>'wtd_std_atomic_radius'</li>\n",
       "\t<li>'gmean_Density'</li>\n",
       "\t<li>'wtd_gmean_Density'</li>\n",
       "\t<li>'entropy_FusionHeat'</li>\n",
       "\t<li>'wtd_entropy_FusionHeat'</li>\n",
       "\t<li>'range_ThermalConductivity'</li>\n",
       "\t<li>'std_ThermalConductivity'</li>\n",
       "\t<li>'wtd_std_ThermalConductivity'</li>\n",
       "\t<li>'mean_Valence'</li>\n",
       "\t<li>'wtd_mean_Valence'</li>\n",
       "\t<li>'gmean_Valence'</li>\n",
       "\t<li>'wtd_gmean_Valence'</li>\n",
       "\t<li>'entropy_Valence'</li>\n",
       "\t<li>'wtd_entropy_Valence'</li>\n",
       "\t<li>'gmean_ElectronAffinity'</li>\n",
       "\t<li>'mean_ThermalConductivity'</li>\n",
       "\t<li>'gmean_FusionHeat'</li>\n",
       "\t<li>'wtd_range_Valence'</li>\n",
       "\t<li>'std_Density'</li>\n",
       "\t<li>'wtd_range_atomic_radius'</li>\n",
       "\t<li>'wtd_range_FusionHeat'</li>\n",
       "\t<li>'std_ElectronAffinity'</li>\n",
       "\t<li>'wtd_gmean_ElectronAffinity'</li>\n",
       "\t<li>'mean_atomic_mass'</li>\n",
       "</ol>\n"
      ],
      "text/latex": [
       "\\begin{enumerate*}\n",
       "\\item 'entropy\\_atomic\\_mass'\n",
       "\\item 'wtd\\_entropy\\_atomic\\_mass'\n",
       "\\item 'entropy\\_fie'\n",
       "\\item 'range\\_fie'\n",
       "\\item 'wtd\\_std\\_fie'\n",
       "\\item 'entropy\\_atomic\\_radius'\n",
       "\\item 'wtd\\_entropy\\_atomic\\_radius'\n",
       "\\item 'range\\_atomic\\_radius'\n",
       "\\item 'std\\_atomic\\_radius'\n",
       "\\item 'wtd\\_std\\_atomic\\_radius'\n",
       "\\item 'gmean\\_Density'\n",
       "\\item 'wtd\\_gmean\\_Density'\n",
       "\\item 'entropy\\_FusionHeat'\n",
       "\\item 'wtd\\_entropy\\_FusionHeat'\n",
       "\\item 'range\\_ThermalConductivity'\n",
       "\\item 'std\\_ThermalConductivity'\n",
       "\\item 'wtd\\_std\\_ThermalConductivity'\n",
       "\\item 'mean\\_Valence'\n",
       "\\item 'wtd\\_mean\\_Valence'\n",
       "\\item 'gmean\\_Valence'\n",
       "\\item 'wtd\\_gmean\\_Valence'\n",
       "\\item 'entropy\\_Valence'\n",
       "\\item 'wtd\\_entropy\\_Valence'\n",
       "\\item 'gmean\\_ElectronAffinity'\n",
       "\\item 'mean\\_ThermalConductivity'\n",
       "\\item 'gmean\\_FusionHeat'\n",
       "\\item 'wtd\\_range\\_Valence'\n",
       "\\item 'std\\_Density'\n",
       "\\item 'wtd\\_range\\_atomic\\_radius'\n",
       "\\item 'wtd\\_range\\_FusionHeat'\n",
       "\\item 'std\\_ElectronAffinity'\n",
       "\\item 'wtd\\_gmean\\_ElectronAffinity'\n",
       "\\item 'mean\\_atomic\\_mass'\n",
       "\\end{enumerate*}\n"
      ],
      "text/markdown": [
       "1. 'entropy_atomic_mass'\n",
       "2. 'wtd_entropy_atomic_mass'\n",
       "3. 'entropy_fie'\n",
       "4. 'range_fie'\n",
       "5. 'wtd_std_fie'\n",
       "6. 'entropy_atomic_radius'\n",
       "7. 'wtd_entropy_atomic_radius'\n",
       "8. 'range_atomic_radius'\n",
       "9. 'std_atomic_radius'\n",
       "10. 'wtd_std_atomic_radius'\n",
       "11. 'gmean_Density'\n",
       "12. 'wtd_gmean_Density'\n",
       "13. 'entropy_FusionHeat'\n",
       "14. 'wtd_entropy_FusionHeat'\n",
       "15. 'range_ThermalConductivity'\n",
       "16. 'std_ThermalConductivity'\n",
       "17. 'wtd_std_ThermalConductivity'\n",
       "18. 'mean_Valence'\n",
       "19. 'wtd_mean_Valence'\n",
       "20. 'gmean_Valence'\n",
       "21. 'wtd_gmean_Valence'\n",
       "22. 'entropy_Valence'\n",
       "23. 'wtd_entropy_Valence'\n",
       "24. 'gmean_ElectronAffinity'\n",
       "25. 'mean_ThermalConductivity'\n",
       "26. 'gmean_FusionHeat'\n",
       "27. 'wtd_range_Valence'\n",
       "28. 'std_Density'\n",
       "29. 'wtd_range_atomic_radius'\n",
       "30. 'wtd_range_FusionHeat'\n",
       "31. 'std_ElectronAffinity'\n",
       "32. 'wtd_gmean_ElectronAffinity'\n",
       "33. 'mean_atomic_mass'\n",
       "\n",
       "\n"
      ],
      "text/plain": [
       " [1] \"entropy_atomic_mass\"         \"wtd_entropy_atomic_mass\"    \n",
       " [3] \"entropy_fie\"                 \"range_fie\"                  \n",
       " [5] \"wtd_std_fie\"                 \"entropy_atomic_radius\"      \n",
       " [7] \"wtd_entropy_atomic_radius\"   \"range_atomic_radius\"        \n",
       " [9] \"std_atomic_radius\"           \"wtd_std_atomic_radius\"      \n",
       "[11] \"gmean_Density\"               \"wtd_gmean_Density\"          \n",
       "[13] \"entropy_FusionHeat\"          \"wtd_entropy_FusionHeat\"     \n",
       "[15] \"range_ThermalConductivity\"   \"std_ThermalConductivity\"    \n",
       "[17] \"wtd_std_ThermalConductivity\" \"mean_Valence\"               \n",
       "[19] \"wtd_mean_Valence\"            \"gmean_Valence\"              \n",
       "[21] \"wtd_gmean_Valence\"           \"entropy_Valence\"            \n",
       "[23] \"wtd_entropy_Valence\"         \"gmean_ElectronAffinity\"     \n",
       "[25] \"mean_ThermalConductivity\"    \"gmean_FusionHeat\"           \n",
       "[27] \"wtd_range_Valence\"           \"std_Density\"                \n",
       "[29] \"wtd_range_atomic_radius\"     \"wtd_range_FusionHeat\"       \n",
       "[31] \"std_ElectronAffinity\"        \"wtd_gmean_ElectronAffinity\" \n",
       "[33] \"mean_atomic_mass\"           "
      ]
     },
     "metadata": {},
     "output_type": "display_data"
    }
   ],
   "source": [
    "# saving final model\n",
    "final_model_1 <- fit2_model_1\n",
    "\n",
    "# features selected by final model 1\n",
    "(model_1_features_final <- names(final_model_1$coefficients)[-1])"
   ]
  },
  {
   "cell_type": "markdown",
   "metadata": {},
   "source": [
    "Using the model to predict on test dataset. "
   ]
  },
  {
   "cell_type": "code",
   "execution_count": 31,
   "metadata": {},
   "outputs": [
    {
     "name": "stdout",
     "output_type": "stream",
     "text": [
      "The R-squared value on test set for Model 1 is:  0.6631949\n",
      "The RMSE on test set for Model 1 is : 19.73956"
     ]
    }
   ],
   "source": [
    "# Using the model fit to make predictions on test set and storing them in a new column in test set\n",
    "test$predm1 <- predict(fit2_model_1,test[model_1_features_final]) \n",
    "\n",
    "# Calculating r-squared value\n",
    "rsq_model1 <- cor(test$critical_temp,test$predm1)^2\n",
    "cat(\"The R-squared value on test set for Model 1 is: \", rsq_model1)\n",
    "\n",
    "\n",
    "# Calculating RMSE\n",
    "rmse_model1 <- (mean((test$critical_temp - test$predm1)^2))^0.5 \n",
    "cat(\"\\nThe RMSE on test set for Model 1 is :\", rmse_model1)"
   ]
  },
  {
   "cell_type": "code",
   "execution_count": 32,
   "metadata": {},
   "outputs": [
    {
     "data": {
      "image/png": "[encoded data removed]",
      "text/plain": [
       "Plot with title \"\""
      ]
     },
     "metadata": {},
     "output_type": "display_data"
    }
   ],
   "source": [
    "# plotting residuals\n",
    "par(mfrow=c(2,1))\n",
    "plot(fit2_model_1, which=1)\n",
    "plot(fit2_model_1, which=2)"
   ]
  },
  {
   "cell_type": "markdown",
   "metadata": {},
   "source": [
    "Model 1 has r-squared of 0.663 meaning it can explain 66.31% variation in the data, which is not great and the model can be improved further but a better feature selection technique would need to be used. It can also be seen from the residuals vs fitted plot that there is some non-linear trend which is not captured, although from the Q-Q plot it can be seen that the residuals are normally distributed. "
   ]
  },
  {
   "cell_type": "markdown",
   "metadata": {},
   "source": [
    "### Model 2: Linear regression with Regularization"
   ]
  },
  {
   "cell_type": "markdown",
   "metadata": {},
   "source": [
    "Another method for feature selection is `Shrinkage methods`In these methods the co-efficients of non-relevant features in the model are regularized to tend towards 0 making the model simpler and in effect shrinking it.  "
   ]
  },
  {
   "cell_type": "markdown",
   "metadata": {},
   "source": [
    "#### Elastic Net\n",
    "Elastic net is a combination of ridge and lasso regularization. With this technique we aim to reduce the number of features and reduce the effects of features that are not relevant. "
   ]
  },
  {
   "cell_type": "code",
   "execution_count": 33,
   "metadata": {},
   "outputs": [],
   "source": [
    "#  creating elastic net model and tuning it using Cross Validation\n",
    "fit.elnet <- glmnet(as.matrix(train.x), as.matrix(train.y), family=\"gaussian\", alpha=.5)\n",
    "fit.elnet.cv <- cv.glmnet(as.matrix(train.x), as.matrix(train.y), type.measure=\"mse\", alpha=.5,\n",
    "                          family=\"gaussian\")"
   ]
  },
  {
   "cell_type": "code",
   "execution_count": 34,
   "metadata": {},
   "outputs": [
    {
     "data": {
      "image/png": "[encoded data removed]",
      "text/plain": [
       "Plot with title \"Elastic Net\""
      ]
     },
     "metadata": {},
     "output_type": "display_data"
    }
   ],
   "source": [
    "# Plot solution paths:\n",
    "par(mfrow=c(1,2))\n",
    "plot(fit.elnet,xvar=\"lambda\")\n",
    "plot(fit.elnet.cv, main=\"Elastic Net\")"
   ]
  },
  {
   "cell_type": "code",
   "execution_count": 35,
   "metadata": {},
   "outputs": [
    {
     "name": "stdout",
     "output_type": "stream",
     "text": [
      "The R-squared value on test set for Model 1 is:  0.7197487\n",
      "The RMSE on test set for Model 1 is : 18.00558"
     ]
    }
   ],
   "source": [
    "# making predictions using fitted model above\n",
    "test$pred_elnet <- predict(fit.elnet.cv, s=fit.elnet.cv$lambda.1se, newx=as.matrix(test.x))\n",
    "\n",
    "# Calculating r-squared value\n",
    "rsq_model2 <- cor(test$critical_temp,test$pred_elnet)^2\n",
    "cat(\"The R-squared value on test set for Model 1 is: \", rsq_model2)\n",
    "\n",
    "\n",
    "# Calculating RMSE\n",
    "rmse_model2 <- (mean((test$critical_temp - test$pred_elnet)^2))^0.5 \n",
    "cat(\"\\nThe RMSE on test set for Model 1 is :\", rmse_model2)"
   ]
  },
  {
   "cell_type": "markdown",
   "metadata": {},
   "source": [
    "As it can be seen model with Elastic Net regularization performs better in terms of R-sq and RMSE. Let see which features were selected by this model. "
   ]
  },
  {
   "cell_type": "code",
   "execution_count": 48,
   "metadata": {},
   "outputs": [
    {
     "data": {
      "text/html": [
       "81"
      ],
      "text/latex": [
       "81"
      ],
      "text/markdown": [
       "81"
      ],
      "text/plain": [
       "[1] 81"
      ]
     },
     "metadata": {},
     "output_type": "display_data"
    },
    {
     "data": {
      "text/html": [
       "<ol class=list-inline>\n",
       "\t<li>'number_of_elements'</li>\n",
       "\t<li>'mean_atomic_mass'</li>\n",
       "\t<li>'wtd_mean_atomic_mass'</li>\n",
       "\t<li>'gmean_atomic_mass'</li>\n",
       "\t<li>'wtd_gmean_atomic_mass'</li>\n",
       "\t<li>'entropy_atomic_mass'</li>\n",
       "\t<li>'wtd_entropy_atomic_mass'</li>\n",
       "\t<li>'range_atomic_mass'</li>\n",
       "\t<li>'wtd_range_atomic_mass'</li>\n",
       "\t<li>'std_atomic_mass'</li>\n",
       "\t<li>'wtd_std_atomic_mass'</li>\n",
       "\t<li>'mean_fie'</li>\n",
       "\t<li>'wtd_mean_fie'</li>\n",
       "\t<li>'gmean_fie'</li>\n",
       "\t<li>'wtd_gmean_fie'</li>\n",
       "\t<li>'entropy_fie'</li>\n",
       "\t<li>'wtd_entropy_fie'</li>\n",
       "\t<li>'range_fie'</li>\n",
       "\t<li>'wtd_range_fie'</li>\n",
       "\t<li>'std_fie'</li>\n",
       "\t<li>'wtd_std_fie'</li>\n",
       "\t<li>'mean_atomic_radius'</li>\n",
       "\t<li>'wtd_mean_atomic_radius'</li>\n",
       "\t<li>'gmean_atomic_radius'</li>\n",
       "\t<li>'wtd_gmean_atomic_radius'</li>\n",
       "\t<li>'entropy_atomic_radius'</li>\n",
       "\t<li>'wtd_entropy_atomic_radius'</li>\n",
       "\t<li>'range_atomic_radius'</li>\n",
       "\t<li>'wtd_range_atomic_radius'</li>\n",
       "\t<li>'std_atomic_radius'</li>\n",
       "\t<li>'wtd_std_atomic_radius'</li>\n",
       "\t<li>'mean_Density'</li>\n",
       "\t<li>'wtd_mean_Density'</li>\n",
       "\t<li>'gmean_Density'</li>\n",
       "\t<li>'wtd_gmean_Density'</li>\n",
       "\t<li>'entropy_Density'</li>\n",
       "\t<li>'wtd_entropy_Density'</li>\n",
       "\t<li>'range_Density'</li>\n",
       "\t<li>'wtd_range_Density'</li>\n",
       "\t<li>'std_Density'</li>\n",
       "\t<li>'wtd_std_Density'</li>\n",
       "\t<li>'mean_ElectronAffinity'</li>\n",
       "\t<li>'wtd_mean_ElectronAffinity'</li>\n",
       "\t<li>'gmean_ElectronAffinity'</li>\n",
       "\t<li>'wtd_gmean_ElectronAffinity'</li>\n",
       "\t<li>'entropy_ElectronAffinity'</li>\n",
       "\t<li>'wtd_entropy_ElectronAffinity'</li>\n",
       "\t<li>'range_ElectronAffinity'</li>\n",
       "\t<li>'wtd_range_ElectronAffinity'</li>\n",
       "\t<li>'std_ElectronAffinity'</li>\n",
       "\t<li>'wtd_std_ElectronAffinity'</li>\n",
       "\t<li>'mean_FusionHeat'</li>\n",
       "\t<li>'wtd_mean_FusionHeat'</li>\n",
       "\t<li>'gmean_FusionHeat'</li>\n",
       "\t<li>'wtd_gmean_FusionHeat'</li>\n",
       "\t<li>'entropy_FusionHeat'</li>\n",
       "\t<li>'wtd_entropy_FusionHeat'</li>\n",
       "\t<li>'range_FusionHeat'</li>\n",
       "\t<li>'wtd_range_FusionHeat'</li>\n",
       "\t<li>'std_FusionHeat'</li>\n",
       "\t<li>'wtd_std_FusionHeat'</li>\n",
       "\t<li>'mean_ThermalConductivity'</li>\n",
       "\t<li>'wtd_mean_ThermalConductivity'</li>\n",
       "\t<li>'gmean_ThermalConductivity'</li>\n",
       "\t<li>'wtd_gmean_ThermalConductivity'</li>\n",
       "\t<li>'entropy_ThermalConductivity'</li>\n",
       "\t<li>'wtd_entropy_ThermalConductivity'</li>\n",
       "\t<li>'range_ThermalConductivity'</li>\n",
       "\t<li>'wtd_range_ThermalConductivity'</li>\n",
       "\t<li>'std_ThermalConductivity'</li>\n",
       "\t<li>'wtd_std_ThermalConductivity'</li>\n",
       "\t<li>'mean_Valence'</li>\n",
       "\t<li>'wtd_mean_Valence'</li>\n",
       "\t<li>'gmean_Valence'</li>\n",
       "\t<li>'wtd_gmean_Valence'</li>\n",
       "\t<li>'entropy_Valence'</li>\n",
       "\t<li>'wtd_entropy_Valence'</li>\n",
       "\t<li>'range_Valence'</li>\n",
       "\t<li>'wtd_range_Valence'</li>\n",
       "\t<li>'std_Valence'</li>\n",
       "\t<li>'wtd_std_Valence'</li>\n",
       "</ol>\n"
      ],
      "text/latex": [
       "\\begin{enumerate*}\n",
       "\\item 'number\\_of\\_elements'\n",
       "\\item 'mean\\_atomic\\_mass'\n",
       "\\item 'wtd\\_mean\\_atomic\\_mass'\n",
       "\\item 'gmean\\_atomic\\_mass'\n",
       "\\item 'wtd\\_gmean\\_atomic\\_mass'\n",
       "\\item 'entropy\\_atomic\\_mass'\n",
       "\\item 'wtd\\_entropy\\_atomic\\_mass'\n",
       "\\item 'range\\_atomic\\_mass'\n",
       "\\item 'wtd\\_range\\_atomic\\_mass'\n",
       "\\item 'std\\_atomic\\_mass'\n",
       "\\item 'wtd\\_std\\_atomic\\_mass'\n",
       "\\item 'mean\\_fie'\n",
       "\\item 'wtd\\_mean\\_fie'\n",
       "\\item 'gmean\\_fie'\n",
       "\\item 'wtd\\_gmean\\_fie'\n",
       "\\item 'entropy\\_fie'\n",
       "\\item 'wtd\\_entropy\\_fie'\n",
       "\\item 'range\\_fie'\n",
       "\\item 'wtd\\_range\\_fie'\n",
       "\\item 'std\\_fie'\n",
       "\\item 'wtd\\_std\\_fie'\n",
       "\\item 'mean\\_atomic\\_radius'\n",
       "\\item 'wtd\\_mean\\_atomic\\_radius'\n",
       "\\item 'gmean\\_atomic\\_radius'\n",
       "\\item 'wtd\\_gmean\\_atomic\\_radius'\n",
       "\\item 'entropy\\_atomic\\_radius'\n",
       "\\item 'wtd\\_entropy\\_atomic\\_radius'\n",
       "\\item 'range\\_atomic\\_radius'\n",
       "\\item 'wtd\\_range\\_atomic\\_radius'\n",
       "\\item 'std\\_atomic\\_radius'\n",
       "\\item 'wtd\\_std\\_atomic\\_radius'\n",
       "\\item 'mean\\_Density'\n",
       "\\item 'wtd\\_mean\\_Density'\n",
       "\\item 'gmean\\_Density'\n",
       "\\item 'wtd\\_gmean\\_Density'\n",
       "\\item 'entropy\\_Density'\n",
       "\\item 'wtd\\_entropy\\_Density'\n",
       "\\item 'range\\_Density'\n",
       "\\item 'wtd\\_range\\_Density'\n",
       "\\item 'std\\_Density'\n",
       "\\item 'wtd\\_std\\_Density'\n",
       "\\item 'mean\\_ElectronAffinity'\n",
       "\\item 'wtd\\_mean\\_ElectronAffinity'\n",
       "\\item 'gmean\\_ElectronAffinity'\n",
       "\\item 'wtd\\_gmean\\_ElectronAffinity'\n",
       "\\item 'entropy\\_ElectronAffinity'\n",
       "\\item 'wtd\\_entropy\\_ElectronAffinity'\n",
       "\\item 'range\\_ElectronAffinity'\n",
       "\\item 'wtd\\_range\\_ElectronAffinity'\n",
       "\\item 'std\\_ElectronAffinity'\n",
       "\\item 'wtd\\_std\\_ElectronAffinity'\n",
       "\\item 'mean\\_FusionHeat'\n",
       "\\item 'wtd\\_mean\\_FusionHeat'\n",
       "\\item 'gmean\\_FusionHeat'\n",
       "\\item 'wtd\\_gmean\\_FusionHeat'\n",
       "\\item 'entropy\\_FusionHeat'\n",
       "\\item 'wtd\\_entropy\\_FusionHeat'\n",
       "\\item 'range\\_FusionHeat'\n",
       "\\item 'wtd\\_range\\_FusionHeat'\n",
       "\\item 'std\\_FusionHeat'\n",
       "\\item 'wtd\\_std\\_FusionHeat'\n",
       "\\item 'mean\\_ThermalConductivity'\n",
       "\\item 'wtd\\_mean\\_ThermalConductivity'\n",
       "\\item 'gmean\\_ThermalConductivity'\n",
       "\\item 'wtd\\_gmean\\_ThermalConductivity'\n",
       "\\item 'entropy\\_ThermalConductivity'\n",
       "\\item 'wtd\\_entropy\\_ThermalConductivity'\n",
       "\\item 'range\\_ThermalConductivity'\n",
       "\\item 'wtd\\_range\\_ThermalConductivity'\n",
       "\\item 'std\\_ThermalConductivity'\n",
       "\\item 'wtd\\_std\\_ThermalConductivity'\n",
       "\\item 'mean\\_Valence'\n",
       "\\item 'wtd\\_mean\\_Valence'\n",
       "\\item 'gmean\\_Valence'\n",
       "\\item 'wtd\\_gmean\\_Valence'\n",
       "\\item 'entropy\\_Valence'\n",
       "\\item 'wtd\\_entropy\\_Valence'\n",
       "\\item 'range\\_Valence'\n",
       "\\item 'wtd\\_range\\_Valence'\n",
       "\\item 'std\\_Valence'\n",
       "\\item 'wtd\\_std\\_Valence'\n",
       "\\end{enumerate*}\n"
      ],
      "text/markdown": [
       "1. 'number_of_elements'\n",
       "2. 'mean_atomic_mass'\n",
       "3. 'wtd_mean_atomic_mass'\n",
       "4. 'gmean_atomic_mass'\n",
       "5. 'wtd_gmean_atomic_mass'\n",
       "6. 'entropy_atomic_mass'\n",
       "7. 'wtd_entropy_atomic_mass'\n",
       "8. 'range_atomic_mass'\n",
       "9. 'wtd_range_atomic_mass'\n",
       "10. 'std_atomic_mass'\n",
       "11. 'wtd_std_atomic_mass'\n",
       "12. 'mean_fie'\n",
       "13. 'wtd_mean_fie'\n",
       "14. 'gmean_fie'\n",
       "15. 'wtd_gmean_fie'\n",
       "16. 'entropy_fie'\n",
       "17. 'wtd_entropy_fie'\n",
       "18. 'range_fie'\n",
       "19. 'wtd_range_fie'\n",
       "20. 'std_fie'\n",
       "21. 'wtd_std_fie'\n",
       "22. 'mean_atomic_radius'\n",
       "23. 'wtd_mean_atomic_radius'\n",
       "24. 'gmean_atomic_radius'\n",
       "25. 'wtd_gmean_atomic_radius'\n",
       "26. 'entropy_atomic_radius'\n",
       "27. 'wtd_entropy_atomic_radius'\n",
       "28. 'range_atomic_radius'\n",
       "29. 'wtd_range_atomic_radius'\n",
       "30. 'std_atomic_radius'\n",
       "31. 'wtd_std_atomic_radius'\n",
       "32. 'mean_Density'\n",
       "33. 'wtd_mean_Density'\n",
       "34. 'gmean_Density'\n",
       "35. 'wtd_gmean_Density'\n",
       "36. 'entropy_Density'\n",
       "37. 'wtd_entropy_Density'\n",
       "38. 'range_Density'\n",
       "39. 'wtd_range_Density'\n",
       "40. 'std_Density'\n",
       "41. 'wtd_std_Density'\n",
       "42. 'mean_ElectronAffinity'\n",
       "43. 'wtd_mean_ElectronAffinity'\n",
       "44. 'gmean_ElectronAffinity'\n",
       "45. 'wtd_gmean_ElectronAffinity'\n",
       "46. 'entropy_ElectronAffinity'\n",
       "47. 'wtd_entropy_ElectronAffinity'\n",
       "48. 'range_ElectronAffinity'\n",
       "49. 'wtd_range_ElectronAffinity'\n",
       "50. 'std_ElectronAffinity'\n",
       "51. 'wtd_std_ElectronAffinity'\n",
       "52. 'mean_FusionHeat'\n",
       "53. 'wtd_mean_FusionHeat'\n",
       "54. 'gmean_FusionHeat'\n",
       "55. 'wtd_gmean_FusionHeat'\n",
       "56. 'entropy_FusionHeat'\n",
       "57. 'wtd_entropy_FusionHeat'\n",
       "58. 'range_FusionHeat'\n",
       "59. 'wtd_range_FusionHeat'\n",
       "60. 'std_FusionHeat'\n",
       "61. 'wtd_std_FusionHeat'\n",
       "62. 'mean_ThermalConductivity'\n",
       "63. 'wtd_mean_ThermalConductivity'\n",
       "64. 'gmean_ThermalConductivity'\n",
       "65. 'wtd_gmean_ThermalConductivity'\n",
       "66. 'entropy_ThermalConductivity'\n",
       "67. 'wtd_entropy_ThermalConductivity'\n",
       "68. 'range_ThermalConductivity'\n",
       "69. 'wtd_range_ThermalConductivity'\n",
       "70. 'std_ThermalConductivity'\n",
       "71. 'wtd_std_ThermalConductivity'\n",
       "72. 'mean_Valence'\n",
       "73. 'wtd_mean_Valence'\n",
       "74. 'gmean_Valence'\n",
       "75. 'wtd_gmean_Valence'\n",
       "76. 'entropy_Valence'\n",
       "77. 'wtd_entropy_Valence'\n",
       "78. 'range_Valence'\n",
       "79. 'wtd_range_Valence'\n",
       "80. 'std_Valence'\n",
       "81. 'wtd_std_Valence'\n",
       "\n",
       "\n"
      ],
      "text/plain": [
       " [1] \"number_of_elements\"              \"mean_atomic_mass\"               \n",
       " [3] \"wtd_mean_atomic_mass\"            \"gmean_atomic_mass\"              \n",
       " [5] \"wtd_gmean_atomic_mass\"           \"entropy_atomic_mass\"            \n",
       " [7] \"wtd_entropy_atomic_mass\"         \"range_atomic_mass\"              \n",
       " [9] \"wtd_range_atomic_mass\"           \"std_atomic_mass\"                \n",
       "[11] \"wtd_std_atomic_mass\"             \"mean_fie\"                       \n",
       "[13] \"wtd_mean_fie\"                    \"gmean_fie\"                      \n",
       "[15] \"wtd_gmean_fie\"                   \"entropy_fie\"                    \n",
       "[17] \"wtd_entropy_fie\"                 \"range_fie\"                      \n",
       "[19] \"wtd_range_fie\"                   \"std_fie\"                        \n",
       "[21] \"wtd_std_fie\"                     \"mean_atomic_radius\"             \n",
       "[23] \"wtd_mean_atomic_radius\"          \"gmean_atomic_radius\"            \n",
       "[25] \"wtd_gmean_atomic_radius\"         \"entropy_atomic_radius\"          \n",
       "[27] \"wtd_entropy_atomic_radius\"       \"range_atomic_radius\"            \n",
       "[29] \"wtd_range_atomic_radius\"         \"std_atomic_radius\"              \n",
       "[31] \"wtd_std_atomic_radius\"           \"mean_Density\"                   \n",
       "[33] \"wtd_mean_Density\"                \"gmean_Density\"                  \n",
       "[35] \"wtd_gmean_Density\"               \"entropy_Density\"                \n",
       "[37] \"wtd_entropy_Density\"             \"range_Density\"                  \n",
       "[39] \"wtd_range_Density\"               \"std_Density\"                    \n",
       "[41] \"wtd_std_Density\"                 \"mean_ElectronAffinity\"          \n",
       "[43] \"wtd_mean_ElectronAffinity\"       \"gmean_ElectronAffinity\"         \n",
       "[45] \"wtd_gmean_ElectronAffinity\"      \"entropy_ElectronAffinity\"       \n",
       "[47] \"wtd_entropy_ElectronAffinity\"    \"range_ElectronAffinity\"         \n",
       "[49] \"wtd_range_ElectronAffinity\"      \"std_ElectronAffinity\"           \n",
       "[51] \"wtd_std_ElectronAffinity\"        \"mean_FusionHeat\"                \n",
       "[53] \"wtd_mean_FusionHeat\"             \"gmean_FusionHeat\"               \n",
       "[55] \"wtd_gmean_FusionHeat\"            \"entropy_FusionHeat\"             \n",
       "[57] \"wtd_entropy_FusionHeat\"          \"range_FusionHeat\"               \n",
       "[59] \"wtd_range_FusionHeat\"            \"std_FusionHeat\"                 \n",
       "[61] \"wtd_std_FusionHeat\"              \"mean_ThermalConductivity\"       \n",
       "[63] \"wtd_mean_ThermalConductivity\"    \"gmean_ThermalConductivity\"      \n",
       "[65] \"wtd_gmean_ThermalConductivity\"   \"entropy_ThermalConductivity\"    \n",
       "[67] \"wtd_entropy_ThermalConductivity\" \"range_ThermalConductivity\"      \n",
       "[69] \"wtd_range_ThermalConductivity\"   \"std_ThermalConductivity\"        \n",
       "[71] \"wtd_std_ThermalConductivity\"     \"mean_Valence\"                   \n",
       "[73] \"wtd_mean_Valence\"                \"gmean_Valence\"                  \n",
       "[75] \"wtd_gmean_Valence\"               \"entropy_Valence\"                \n",
       "[77] \"wtd_entropy_Valence\"             \"range_Valence\"                  \n",
       "[79] \"wtd_range_Valence\"               \"std_Valence\"                    \n",
       "[81] \"wtd_std_Valence\"                "
      ]
     },
     "metadata": {},
     "output_type": "display_data"
    }
   ],
   "source": [
    "length(unlist(fit.elnet.cv$glmnet.fit$beta@Dimnames[1]))\n",
    "unlist(fit.elnet.cv$glmnet.fit$beta@Dimnames[1])"
   ]
  },
  {
   "cell_type": "markdown",
   "metadata": {},
   "source": [
    "### Model 3 : XGBoost"
   ]
  },
  {
   "cell_type": "markdown",
   "metadata": {},
   "source": [
    "XGBoost is one of the more popular Machine Learning algorithm which is wide used in the data science community as it is very efficient. Applying XGBoost model to the the current dataset. "
   ]
  },
  {
   "cell_type": "code",
   "execution_count": 37,
   "metadata": {},
   "outputs": [],
   "source": [
    "# Setting defaullt parameters\n",
    "params <- list(eta=0.3, gamma=0, max_depth=6, min_child_weight=1, subsample=1, colsample_bytree=1)"
   ]
  },
  {
   "cell_type": "code",
   "execution_count": 38,
   "metadata": {},
   "outputs": [
    {
     "name": "stdout",
     "output_type": "stream",
     "text": [
      "[1]\ttest-rmse:35.035908 \n",
      "Will train until test_rmse hasn't improved in 100 rounds.\n",
      "\n",
      "[21]\ttest-rmse:10.936006 \n",
      "[41]\ttest-rmse:10.476800 \n",
      "[61]\ttest-rmse:10.254866 \n",
      "[81]\ttest-rmse:10.154818 \n",
      "[101]\ttest-rmse:10.069139 \n",
      "[121]\ttest-rmse:10.038797 \n",
      "[141]\ttest-rmse:10.028865 \n",
      "[161]\ttest-rmse:10.023368 \n",
      "[181]\ttest-rmse:10.035257 \n",
      "[201]\ttest-rmse:10.024297 \n",
      "[221]\ttest-rmse:10.008030 \n",
      "[241]\ttest-rmse:10.018111 \n",
      "[261]\ttest-rmse:10.028219 \n",
      "[281]\ttest-rmse:10.020899 \n",
      "[301]\ttest-rmse:10.029593 \n",
      "Stopping. Best iteration:\n",
      "[219]\ttest-rmse:10.006484\n",
      "\n"
     ]
    }
   ],
   "source": [
    " # Training the model using default parameters and more iterations\n",
    "fit.xgboost <- xgb.train(params = params,\n",
    "                        data = xgb.DMatrix(data = as.matrix(train[,-82]), label = as.matrix(train[,82])),\n",
    "                        nrounds = 500,\n",
    "                        nfold = 10, \n",
    "                        showsd = T, \n",
    "                        stratified = T,\n",
    "                        print_every_n = 20,\n",
    "                        early_stopping_rounds = 100,\n",
    "                        watchlist = list(test = xgb.DMatrix(data = as.matrix(test[,1:81]),label = as.matrix(test[,82]))))"
   ]
  },
  {
   "cell_type": "code",
   "execution_count": 39,
   "metadata": {},
   "outputs": [
    {
     "name": "stdout",
     "output_type": "stream",
     "text": [
      "                            Feature        Gain       Cover   Frequency\n",
      " 1:       range_ThermalConductivity 0.544208401 0.006412423 0.002002076\n",
      " 2:   wtd_gmean_ThermalConductivity 0.110503452 0.013029015 0.011715853\n",
      " 3:                     std_Density 0.019212729 0.007643195 0.005932078\n",
      " 4:        wtd_std_ElectronAffinity 0.018309874 0.013804323 0.012457363\n",
      " 5:               wtd_gmean_Valence 0.017191581 0.013006260 0.008156607\n",
      " 6:                 std_atomic_mass 0.016766367 0.004677480 0.007934154\n",
      " 7:             range_atomic_radius 0.016664085 0.002178502 0.002521133\n",
      " 8: wtd_entropy_ThermalConductivity 0.015269660 0.032344947 0.024024915\n",
      " 9:           wtd_range_atomic_mass 0.012694687 0.023510416 0.025507934\n",
      "10:     wtd_std_ThermalConductivity 0.012534523 0.035057470 0.022171140\n",
      "11:                 wtd_std_Valence 0.012407830 0.013559454 0.013717930\n",
      "12:                   gmean_Density 0.010318158 0.002114520 0.003930001\n",
      "13:                    mean_Density 0.010220641 0.006306546 0.007711701\n",
      "14:                wtd_mean_Valence 0.009335933 0.022794140 0.013050571\n",
      "15:                 entropy_Density 0.007553609 0.005308634 0.005932078\n",
      "16:                   wtd_range_fie 0.007286954 0.027566471 0.022096989\n",
      "17:            wtd_mean_atomic_mass 0.007189186 0.013045836 0.050200208\n",
      "18:          gmean_ElectronAffinity 0.007048414 0.004774122 0.004597360\n",
      "19:           entropy_atomic_radius 0.006879362 0.014301646 0.008527362\n",
      "20:       wtd_entropy_atomic_radius 0.006783167 0.031656694 0.020020762\n",
      "21:    wtd_mean_ThermalConductivity 0.006673271 0.021198084 0.016164912\n",
      "22:             wtd_entropy_Density 0.006234547 0.018832760 0.019130951\n",
      "23:             wtd_entropy_Valence 0.006009005 0.025609625 0.014830194\n",
      "24:           wtd_gmean_atomic_mass 0.005864001 0.015023225 0.018537743\n",
      "25:           wtd_std_atomic_radius 0.005811760 0.052834023 0.027658312\n",
      "                            Feature        Gain       Cover   Frequency\n"
     ]
    },
    {
     "data": {
      "image/png": "[encoded data removed]",
      "text/plain": [
       "plot without title"
      ]
     },
     "metadata": {},
     "output_type": "display_data"
    }
   ],
   "source": [
    "# top 25 most important features\n",
    "imp_features_xgb <- xgb.importance(colnames(train[,-82]), model = fit.xgboost)[1:25,]\n",
    "print(imp_features_xgb)\n",
    "xgb.plot.importance(imp_features_xgb)"
   ]
  },
  {
   "cell_type": "markdown",
   "metadata": {},
   "source": [
    "Most important feature selected by XGBoost algorithm is `range_ThermalConductivity`."
   ]
  },
  {
   "cell_type": "markdown",
   "metadata": {},
   "source": [
    "Using the model created by XGBoost algorithm to find predictions on test data and evaluating the model by using RMSE and R-Squared statistic. "
   ]
  },
  {
   "cell_type": "code",
   "execution_count": 40,
   "metadata": {},
   "outputs": [
    {
     "name": "stdout",
     "output_type": "stream",
     "text": [
      "\n",
      "Lowest RMSE with XGBoost : 10.00648\n",
      "R-Squared for XGB : 0.9134337"
     ]
    }
   ],
   "source": [
    "# Using model created to generate predictions on test data\n",
    "test_xgbDMatrix <- xgb.DMatrix(data = as.matrix(test[,1:81]), label = test[,82])\n",
    "test$pred_xgb <- predict(fit.xgboost, newdata = test_xgbDMatrix)\n",
    "\n",
    "# Minimum RMSE on test data\n",
    "rmse_xgboost <-  (mean((test$critical_temp - test$pred_xgb)^2))^0.5 \n",
    "cat('\\nLowest RMSE with XGBoost :',rmse_xgboost)\n",
    "\n",
    "# Checking R-Squared Value\n",
    "rsq_xgboost <- cor(test$critical_temp, test$pred_xgb)^2\n",
    "cat('\\nR-Squared for XGB :',rsq_xgboost)"
   ]
  },
  {
   "cell_type": "markdown",
   "metadata": {},
   "source": [
    "The model created by XGBoost algorithm has a high rsquared value of 0.9134 and very low RMSE of 10.006 indicating the model performance is very good."
   ]
  },
  {
   "cell_type": "markdown",
   "metadata": {},
   "source": [
    "## 4. Model Comparsion<a class=\"anchor\" id=\"sec_4\"></a>"
   ]
  },
  {
   "cell_type": "markdown",
   "metadata": {},
   "source": [
    "In this section all 3 models created above are compared based on RMSE and testing R-squared values. "
   ]
  },
  {
   "cell_type": "code",
   "execution_count": 41,
   "metadata": {},
   "outputs": [
    {
     "data": {
      "text/html": [
       "<table>\n",
       "<thead><tr><th scope=col>Model</th><th scope=col>Test_R_Squared</th><th scope=col>Test_RMSE</th></tr></thead>\n",
       "<tbody>\n",
       "\t<tr><td>Linear Model w/ variable selection        </td><td>0.6631949                                 </td><td>19.73956                                  </td></tr>\n",
       "\t<tr><td>Linear Model w/ Elastic Net Regularization</td><td>0.7197487                                 </td><td>18.00558                                  </td></tr>\n",
       "\t<tr><td>XGBoost Linear Model                      </td><td>0.9134337                                 </td><td>10.00648                                  </td></tr>\n",
       "</tbody>\n",
       "</table>\n"
      ],
      "text/latex": [
       "\\begin{tabular}{r|lll}\n",
       " Model & Test\\_R\\_Squared & Test\\_RMSE\\\\\n",
       "\\hline\n",
       "\t Linear Model w/ variable selection         & 0.6631949                                  & 19.73956                                  \\\\\n",
       "\t Linear Model w/ Elastic Net Regularization & 0.7197487                                  & 18.00558                                  \\\\\n",
       "\t XGBoost Linear Model                       & 0.9134337                                  & 10.00648                                  \\\\\n",
       "\\end{tabular}\n"
      ],
      "text/markdown": [
       "\n",
       "| Model | Test_R_Squared | Test_RMSE |\n",
       "|---|---|---|\n",
       "| Linear Model w/ variable selection         | 0.6631949                                  | 19.73956                                   |\n",
       "| Linear Model w/ Elastic Net Regularization | 0.7197487                                  | 18.00558                                   |\n",
       "| XGBoost Linear Model                       | 0.9134337                                  | 10.00648                                   |\n",
       "\n"
      ],
      "text/plain": [
       "  Model                                      Test_R_Squared Test_RMSE\n",
       "1 Linear Model w/ variable selection         0.6631949      19.73956 \n",
       "2 Linear Model w/ Elastic Net Regularization 0.7197487      18.00558 \n",
       "3 XGBoost Linear Model                       0.9134337      10.00648 "
      ]
     },
     "metadata": {},
     "output_type": "display_data"
    }
   ],
   "source": [
    "# Fetching R-squared values for all models\n",
    "rsq<-c(rsq_model1,rsq_model2,rsq_xgboost)\n",
    "\n",
    "# Fetching test RMSE values for all models\n",
    "rmse<-c(rmse_model1,rmse_model2,rmse_xgboost)\n",
    "\n",
    "# Storing model names in an array\n",
    "model_name<-c('Linear Model w/ variable selection', 'Linear Model w/ Elastic Net Regularization', 'XGBoost Linear Model')\n",
    "\n",
    "# Creating a dataframe for comparision of statistics\n",
    "(comparision<-data.frame(Model=model_name, Test_R_Squared=rsq, Test_RMSE=rmse))"
   ]
  },
  {
   "cell_type": "markdown",
   "metadata": {},
   "source": [
    "From the above comparision it can be seen that XGBoost has the best performance on the test set with R-Squared of 0.91 and RMSE of 10.006."
   ]
  },
  {
   "cell_type": "markdown",
   "metadata": {},
   "source": [
    "## 5. Variable Identification and Explanation <a class=\"anchor\" id=\"sec_5\"></a>\n",
    "During the course of this Analysis three models were built using different techniques. These models included different features as a part of the model as analysed below.  "
   ]
  },
  {
   "cell_type": "markdown",
   "metadata": {},
   "source": [
    "**Model 1: Linear Regression w/ variable selection:** In this model the variables were selected using high corelation and mRMR(Minimum redundancy Maximum Relevance) techniques and further step function was applied to remove statistically insignificant variables. Following features were selected finally: "
   ]
  },
  {
   "cell_type": "code",
   "execution_count": 42,
   "metadata": {},
   "outputs": [
    {
     "data": {
      "text/html": [
       "<ol class=list-inline>\n",
       "\t<li>'entropy_atomic_mass'</li>\n",
       "\t<li>'wtd_entropy_atomic_mass'</li>\n",
       "\t<li>'entropy_fie'</li>\n",
       "\t<li>'range_fie'</li>\n",
       "\t<li>'wtd_std_fie'</li>\n",
       "\t<li>'entropy_atomic_radius'</li>\n",
       "\t<li>'wtd_entropy_atomic_radius'</li>\n",
       "\t<li>'range_atomic_radius'</li>\n",
       "\t<li>'std_atomic_radius'</li>\n",
       "\t<li>'wtd_std_atomic_radius'</li>\n",
       "\t<li>'gmean_Density'</li>\n",
       "\t<li>'wtd_gmean_Density'</li>\n",
       "\t<li>'entropy_FusionHeat'</li>\n",
       "\t<li>'wtd_entropy_FusionHeat'</li>\n",
       "\t<li>'range_ThermalConductivity'</li>\n",
       "\t<li>'std_ThermalConductivity'</li>\n",
       "\t<li>'wtd_std_ThermalConductivity'</li>\n",
       "\t<li>'mean_Valence'</li>\n",
       "\t<li>'wtd_mean_Valence'</li>\n",
       "\t<li>'gmean_Valence'</li>\n",
       "\t<li>'wtd_gmean_Valence'</li>\n",
       "\t<li>'entropy_Valence'</li>\n",
       "\t<li>'wtd_entropy_Valence'</li>\n",
       "\t<li>'gmean_ElectronAffinity'</li>\n",
       "\t<li>'mean_ThermalConductivity'</li>\n",
       "\t<li>'gmean_FusionHeat'</li>\n",
       "\t<li>'wtd_range_Valence'</li>\n",
       "\t<li>'std_Density'</li>\n",
       "\t<li>'wtd_range_atomic_radius'</li>\n",
       "\t<li>'wtd_range_FusionHeat'</li>\n",
       "\t<li>'std_ElectronAffinity'</li>\n",
       "\t<li>'wtd_gmean_ElectronAffinity'</li>\n",
       "\t<li>'mean_atomic_mass'</li>\n",
       "</ol>\n"
      ],
      "text/latex": [
       "\\begin{enumerate*}\n",
       "\\item 'entropy\\_atomic\\_mass'\n",
       "\\item 'wtd\\_entropy\\_atomic\\_mass'\n",
       "\\item 'entropy\\_fie'\n",
       "\\item 'range\\_fie'\n",
       "\\item 'wtd\\_std\\_fie'\n",
       "\\item 'entropy\\_atomic\\_radius'\n",
       "\\item 'wtd\\_entropy\\_atomic\\_radius'\n",
       "\\item 'range\\_atomic\\_radius'\n",
       "\\item 'std\\_atomic\\_radius'\n",
       "\\item 'wtd\\_std\\_atomic\\_radius'\n",
       "\\item 'gmean\\_Density'\n",
       "\\item 'wtd\\_gmean\\_Density'\n",
       "\\item 'entropy\\_FusionHeat'\n",
       "\\item 'wtd\\_entropy\\_FusionHeat'\n",
       "\\item 'range\\_ThermalConductivity'\n",
       "\\item 'std\\_ThermalConductivity'\n",
       "\\item 'wtd\\_std\\_ThermalConductivity'\n",
       "\\item 'mean\\_Valence'\n",
       "\\item 'wtd\\_mean\\_Valence'\n",
       "\\item 'gmean\\_Valence'\n",
       "\\item 'wtd\\_gmean\\_Valence'\n",
       "\\item 'entropy\\_Valence'\n",
       "\\item 'wtd\\_entropy\\_Valence'\n",
       "\\item 'gmean\\_ElectronAffinity'\n",
       "\\item 'mean\\_ThermalConductivity'\n",
       "\\item 'gmean\\_FusionHeat'\n",
       "\\item 'wtd\\_range\\_Valence'\n",
       "\\item 'std\\_Density'\n",
       "\\item 'wtd\\_range\\_atomic\\_radius'\n",
       "\\item 'wtd\\_range\\_FusionHeat'\n",
       "\\item 'std\\_ElectronAffinity'\n",
       "\\item 'wtd\\_gmean\\_ElectronAffinity'\n",
       "\\item 'mean\\_atomic\\_mass'\n",
       "\\end{enumerate*}\n"
      ],
      "text/markdown": [
       "1. 'entropy_atomic_mass'\n",
       "2. 'wtd_entropy_atomic_mass'\n",
       "3. 'entropy_fie'\n",
       "4. 'range_fie'\n",
       "5. 'wtd_std_fie'\n",
       "6. 'entropy_atomic_radius'\n",
       "7. 'wtd_entropy_atomic_radius'\n",
       "8. 'range_atomic_radius'\n",
       "9. 'std_atomic_radius'\n",
       "10. 'wtd_std_atomic_radius'\n",
       "11. 'gmean_Density'\n",
       "12. 'wtd_gmean_Density'\n",
       "13. 'entropy_FusionHeat'\n",
       "14. 'wtd_entropy_FusionHeat'\n",
       "15. 'range_ThermalConductivity'\n",
       "16. 'std_ThermalConductivity'\n",
       "17. 'wtd_std_ThermalConductivity'\n",
       "18. 'mean_Valence'\n",
       "19. 'wtd_mean_Valence'\n",
       "20. 'gmean_Valence'\n",
       "21. 'wtd_gmean_Valence'\n",
       "22. 'entropy_Valence'\n",
       "23. 'wtd_entropy_Valence'\n",
       "24. 'gmean_ElectronAffinity'\n",
       "25. 'mean_ThermalConductivity'\n",
       "26. 'gmean_FusionHeat'\n",
       "27. 'wtd_range_Valence'\n",
       "28. 'std_Density'\n",
       "29. 'wtd_range_atomic_radius'\n",
       "30. 'wtd_range_FusionHeat'\n",
       "31. 'std_ElectronAffinity'\n",
       "32. 'wtd_gmean_ElectronAffinity'\n",
       "33. 'mean_atomic_mass'\n",
       "\n",
       "\n"
      ],
      "text/plain": [
       " [1] \"entropy_atomic_mass\"         \"wtd_entropy_atomic_mass\"    \n",
       " [3] \"entropy_fie\"                 \"range_fie\"                  \n",
       " [5] \"wtd_std_fie\"                 \"entropy_atomic_radius\"      \n",
       " [7] \"wtd_entropy_atomic_radius\"   \"range_atomic_radius\"        \n",
       " [9] \"std_atomic_radius\"           \"wtd_std_atomic_radius\"      \n",
       "[11] \"gmean_Density\"               \"wtd_gmean_Density\"          \n",
       "[13] \"entropy_FusionHeat\"          \"wtd_entropy_FusionHeat\"     \n",
       "[15] \"range_ThermalConductivity\"   \"std_ThermalConductivity\"    \n",
       "[17] \"wtd_std_ThermalConductivity\" \"mean_Valence\"               \n",
       "[19] \"wtd_mean_Valence\"            \"gmean_Valence\"              \n",
       "[21] \"wtd_gmean_Valence\"           \"entropy_Valence\"            \n",
       "[23] \"wtd_entropy_Valence\"         \"gmean_ElectronAffinity\"     \n",
       "[25] \"mean_ThermalConductivity\"    \"gmean_FusionHeat\"           \n",
       "[27] \"wtd_range_Valence\"           \"std_Density\"                \n",
       "[29] \"wtd_range_atomic_radius\"     \"wtd_range_FusionHeat\"       \n",
       "[31] \"std_ElectronAffinity\"        \"wtd_gmean_ElectronAffinity\" \n",
       "[33] \"mean_atomic_mass\"           "
      ]
     },
     "metadata": {},
     "output_type": "display_data"
    }
   ],
   "source": [
    "(model_1_features_final)"
   ]
  },
  {
   "cell_type": "markdown",
   "metadata": {},
   "source": [
    "**Model 2: Linear Model w/ Eastic Net Regularization:** In this model, all features are a part of the model although the algorithm regularizes some of the coefficients that are not important and would potentially cause overfitting. So although the model includes all features they can't be individually analysed."
   ]
  },
  {
   "cell_type": "markdown",
   "metadata": {},
   "source": [
    "**Model 3: XGBoost Model:** This model assigns importance to each coefficient and performs boosting based on that. The top 20 most important features are as follows:"
   ]
  },
  {
   "cell_type": "code",
   "execution_count": 43,
   "metadata": {},
   "outputs": [
    {
     "data": {
      "text/html": [
       "<ol class=list-inline>\n",
       "\t<li>'range_ThermalConductivity'</li>\n",
       "\t<li>'wtd_gmean_ThermalConductivity'</li>\n",
       "\t<li>'std_Density'</li>\n",
       "\t<li>'wtd_std_ElectronAffinity'</li>\n",
       "\t<li>'wtd_gmean_Valence'</li>\n",
       "\t<li>'std_atomic_mass'</li>\n",
       "\t<li>'range_atomic_radius'</li>\n",
       "\t<li>'wtd_entropy_ThermalConductivity'</li>\n",
       "\t<li>'wtd_range_atomic_mass'</li>\n",
       "\t<li>'wtd_std_ThermalConductivity'</li>\n",
       "\t<li>'wtd_std_Valence'</li>\n",
       "\t<li>'gmean_Density'</li>\n",
       "\t<li>'mean_Density'</li>\n",
       "\t<li>'wtd_mean_Valence'</li>\n",
       "\t<li>'entropy_Density'</li>\n",
       "\t<li>'wtd_range_fie'</li>\n",
       "\t<li>'wtd_mean_atomic_mass'</li>\n",
       "\t<li>'gmean_ElectronAffinity'</li>\n",
       "\t<li>'entropy_atomic_radius'</li>\n",
       "\t<li>'wtd_entropy_atomic_radius'</li>\n",
       "\t<li>'wtd_mean_ThermalConductivity'</li>\n",
       "\t<li>'wtd_entropy_Density'</li>\n",
       "\t<li>'wtd_entropy_Valence'</li>\n",
       "\t<li>'wtd_gmean_atomic_mass'</li>\n",
       "\t<li>'wtd_std_atomic_radius'</li>\n",
       "</ol>\n"
      ],
      "text/latex": [
       "\\begin{enumerate*}\n",
       "\\item 'range\\_ThermalConductivity'\n",
       "\\item 'wtd\\_gmean\\_ThermalConductivity'\n",
       "\\item 'std\\_Density'\n",
       "\\item 'wtd\\_std\\_ElectronAffinity'\n",
       "\\item 'wtd\\_gmean\\_Valence'\n",
       "\\item 'std\\_atomic\\_mass'\n",
       "\\item 'range\\_atomic\\_radius'\n",
       "\\item 'wtd\\_entropy\\_ThermalConductivity'\n",
       "\\item 'wtd\\_range\\_atomic\\_mass'\n",
       "\\item 'wtd\\_std\\_ThermalConductivity'\n",
       "\\item 'wtd\\_std\\_Valence'\n",
       "\\item 'gmean\\_Density'\n",
       "\\item 'mean\\_Density'\n",
       "\\item 'wtd\\_mean\\_Valence'\n",
       "\\item 'entropy\\_Density'\n",
       "\\item 'wtd\\_range\\_fie'\n",
       "\\item 'wtd\\_mean\\_atomic\\_mass'\n",
       "\\item 'gmean\\_ElectronAffinity'\n",
       "\\item 'entropy\\_atomic\\_radius'\n",
       "\\item 'wtd\\_entropy\\_atomic\\_radius'\n",
       "\\item 'wtd\\_mean\\_ThermalConductivity'\n",
       "\\item 'wtd\\_entropy\\_Density'\n",
       "\\item 'wtd\\_entropy\\_Valence'\n",
       "\\item 'wtd\\_gmean\\_atomic\\_mass'\n",
       "\\item 'wtd\\_std\\_atomic\\_radius'\n",
       "\\end{enumerate*}\n"
      ],
      "text/markdown": [
       "1. 'range_ThermalConductivity'\n",
       "2. 'wtd_gmean_ThermalConductivity'\n",
       "3. 'std_Density'\n",
       "4. 'wtd_std_ElectronAffinity'\n",
       "5. 'wtd_gmean_Valence'\n",
       "6. 'std_atomic_mass'\n",
       "7. 'range_atomic_radius'\n",
       "8. 'wtd_entropy_ThermalConductivity'\n",
       "9. 'wtd_range_atomic_mass'\n",
       "10. 'wtd_std_ThermalConductivity'\n",
       "11. 'wtd_std_Valence'\n",
       "12. 'gmean_Density'\n",
       "13. 'mean_Density'\n",
       "14. 'wtd_mean_Valence'\n",
       "15. 'entropy_Density'\n",
       "16. 'wtd_range_fie'\n",
       "17. 'wtd_mean_atomic_mass'\n",
       "18. 'gmean_ElectronAffinity'\n",
       "19. 'entropy_atomic_radius'\n",
       "20. 'wtd_entropy_atomic_radius'\n",
       "21. 'wtd_mean_ThermalConductivity'\n",
       "22. 'wtd_entropy_Density'\n",
       "23. 'wtd_entropy_Valence'\n",
       "24. 'wtd_gmean_atomic_mass'\n",
       "25. 'wtd_std_atomic_radius'\n",
       "\n",
       "\n"
      ],
      "text/plain": [
       " [1] \"range_ThermalConductivity\"       \"wtd_gmean_ThermalConductivity\"  \n",
       " [3] \"std_Density\"                     \"wtd_std_ElectronAffinity\"       \n",
       " [5] \"wtd_gmean_Valence\"               \"std_atomic_mass\"                \n",
       " [7] \"range_atomic_radius\"             \"wtd_entropy_ThermalConductivity\"\n",
       " [9] \"wtd_range_atomic_mass\"           \"wtd_std_ThermalConductivity\"    \n",
       "[11] \"wtd_std_Valence\"                 \"gmean_Density\"                  \n",
       "[13] \"mean_Density\"                    \"wtd_mean_Valence\"               \n",
       "[15] \"entropy_Density\"                 \"wtd_range_fie\"                  \n",
       "[17] \"wtd_mean_atomic_mass\"            \"gmean_ElectronAffinity\"         \n",
       "[19] \"entropy_atomic_radius\"           \"wtd_entropy_atomic_radius\"      \n",
       "[21] \"wtd_mean_ThermalConductivity\"    \"wtd_entropy_Density\"            \n",
       "[23] \"wtd_entropy_Valence\"             \"wtd_gmean_atomic_mass\"          \n",
       "[25] \"wtd_std_atomic_radius\"          "
      ]
     },
     "metadata": {},
     "output_type": "display_data"
    }
   ],
   "source": [
    "imp_features_xgb$Feature"
   ]
  },
  {
   "cell_type": "markdown",
   "metadata": {},
   "source": [
    "To do a logical conclusion to the variables selected by different models to find the most important features, doing a intersection of features from above models to get a list of features that are common across models."
   ]
  },
  {
   "cell_type": "code",
   "execution_count": 44,
   "metadata": {},
   "outputs": [
    {
     "data": {
      "text/html": [
       "<table>\n",
       "<tbody>\n",
       "\t<tr><td>entropy_atomic_radius      </td></tr>\n",
       "\t<tr><td>wtd_entropy_atomic_radius  </td></tr>\n",
       "\t<tr><td>range_atomic_radius        </td></tr>\n",
       "\t<tr><td>wtd_std_atomic_radius      </td></tr>\n",
       "\t<tr><td>gmean_Density              </td></tr>\n",
       "\t<tr><td>range_ThermalConductivity  </td></tr>\n",
       "\t<tr><td>wtd_std_ThermalConductivity</td></tr>\n",
       "\t<tr><td>wtd_mean_Valence           </td></tr>\n",
       "\t<tr><td>wtd_gmean_Valence          </td></tr>\n",
       "\t<tr><td>wtd_entropy_Valence        </td></tr>\n",
       "\t<tr><td>gmean_ElectronAffinity     </td></tr>\n",
       "\t<tr><td>std_Density                </td></tr>\n",
       "</tbody>\n",
       "</table>\n"
      ],
      "text/latex": [
       "\\begin{tabular}{l}\n",
       "\t entropy\\_atomic\\_radius      \\\\\n",
       "\t wtd\\_entropy\\_atomic\\_radius  \\\\\n",
       "\t range\\_atomic\\_radius        \\\\\n",
       "\t wtd\\_std\\_atomic\\_radius      \\\\\n",
       "\t gmean\\_Density              \\\\\n",
       "\t range\\_ThermalConductivity  \\\\\n",
       "\t wtd\\_std\\_ThermalConductivity\\\\\n",
       "\t wtd\\_mean\\_Valence           \\\\\n",
       "\t wtd\\_gmean\\_Valence          \\\\\n",
       "\t wtd\\_entropy\\_Valence        \\\\\n",
       "\t gmean\\_ElectronAffinity     \\\\\n",
       "\t std\\_Density                \\\\\n",
       "\\end{tabular}\n"
      ],
      "text/markdown": [
       "\n",
       "| entropy_atomic_radius       |\n",
       "| wtd_entropy_atomic_radius   |\n",
       "| range_atomic_radius         |\n",
       "| wtd_std_atomic_radius       |\n",
       "| gmean_Density               |\n",
       "| range_ThermalConductivity   |\n",
       "| wtd_std_ThermalConductivity |\n",
       "| wtd_mean_Valence            |\n",
       "| wtd_gmean_Valence           |\n",
       "| wtd_entropy_Valence         |\n",
       "| gmean_ElectronAffinity      |\n",
       "| std_Density                 |\n",
       "\n"
      ],
      "text/plain": [
       "      [,1]                       \n",
       " [1,] entropy_atomic_radius      \n",
       " [2,] wtd_entropy_atomic_radius  \n",
       " [3,] range_atomic_radius        \n",
       " [4,] wtd_std_atomic_radius      \n",
       " [5,] gmean_Density              \n",
       " [6,] range_ThermalConductivity  \n",
       " [7,] wtd_std_ThermalConductivity\n",
       " [8,] wtd_mean_Valence           \n",
       " [9,] wtd_gmean_Valence          \n",
       "[10,] wtd_entropy_Valence        \n",
       "[11,] gmean_ElectronAffinity     \n",
       "[12,] std_Density                "
      ]
     },
     "metadata": {},
     "output_type": "display_data"
    }
   ],
   "source": [
    "matrix(intersect(model_1_features_final,imp_features_xgb$Feature))"
   ]
  },
  {
   "cell_type": "markdown",
   "metadata": {},
   "source": [
    "Looking at this list Property wise, following features are common across all models and make candidates for the best predictors out of all 80 features: \n",
    "\n",
    "**Atomic Radius**:        entropy, wtd_entropy, range, wtd_std\n",
    "\n",
    "**Density** :             gmean, std\n",
    "\n",
    "**Thermal Conductivity**: range, wtd_std\n",
    "\n",
    "**Valence**:              wtd_mean, wtd_gmean, wtd_entropy\n",
    "\n",
    "**Electron Affinity**:    gmean"
   ]
  },
  {
   "cell_type": "markdown",
   "metadata": {},
   "source": [
    "## 6. Conclusion <a class=\"anchor\" id=\"sec_6\"></a>"
   ]
  },
  {
   "cell_type": "markdown",
   "metadata": {},
   "source": [
    "The aim of the analysis was to develop a predictive model to predict the critical temperature of a supercondutor material based on the various chemical properties and their features. The dataset provided has 80+ features which describe the chemical properties of the superconducting material. \n",
    "\n",
    "One of the most important challenge was to find the properties that are most relevant to superconductivity and develop models based on that intuition. This challenge has been tackled by looking at high corelation with target for first model, regularization in the second model and gradient boosting in the third model. \n",
    "\n",
    "Among the three models developed, first model has the fewest features and is easier to understand but gives the least r-squared value as well. As the model complexity increases with subsequent models the predictive power increases in the second and third model although it can be seen that the interpretibility becomes more complex as well. \n",
    "\n",
    "Finally, a common analysis of features selected among the three models shows that Atomic Radius, Density, Thermal Conductivity, Valence and Electron Affinity are the most statistically significant properties from a prediction perpective. "
   ]
  },
  {
   "cell_type": "markdown",
   "metadata": {},
   "source": [
    "## 7. References <a class=\"anchor\" id=\"sec_7\"></a>"
   ]
  },
  {
   "cell_type": "markdown",
   "metadata": {},
   "source": [
    "- Feature Selection using MRMR. (2019). Retrieved 16 September 2019, from https://shodhganga.inflibnet.ac.in/bitstream/10603/24118/8/08_chapter3.pdf\n",
    "\n",
    "\n",
    "\n",
    "- Science, D., & steps, H. (2019). Use XGBoost in R: A Complete tutorial with easy steps. Retrieved 16 September 2019, from https://www.analyticsvidhya.com/blog/2016/01/xgboost-algorithm-easy-steps/\n"
   ]
  }
 ],
 "metadata": {
  "kernelspec": {
   "display_name": "R",
   "language": "R",
   "name": "ir"
  },
  "language_info": {
   "codemirror_mode": "r",
   "file_extension": ".r",
   "mimetype": "text/x-r-source",
   "name": "R",
   "pygments_lexer": "r",
   "version": "3.6.1"
  }
 },
 "nbformat": 4,
 "nbformat_minor": 2
}
